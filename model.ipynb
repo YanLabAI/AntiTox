{
 "cells": [
  {
   "cell_type": "code",
   "execution_count": 1,
   "id": "46129ee1",
   "metadata": {
    "ExecuteTime": {
     "end_time": "2023-09-11T12:03:43.907009Z",
     "start_time": "2023-09-11T12:03:43.046175Z"
    }
   },
   "outputs": [],
   "source": [
    "from sklearn.tree import DecisionTreeRegressor\n",
    "from sklearn.ensemble import GradientBoostingRegressor\n",
    "from sklearn.ensemble import RandomForestRegressor\n",
    "from xgboost import XGBRegressor as XGBR\n",
    "from interpret.glassbox import ExplainableBoostingRegressor\n",
    "#, LinearRegression, RegressionTree\n",
    "from sklearn.neighbors import KNeighborsRegressor\n",
    "from sklearn.svm import SVR\n",
    "from sklearn.linear_model import Lasso\n",
    "from sklearn.linear_model import Ridge\n",
    "from sklearn.linear_model import ElasticNet\n",
    "from sklearn.model_selection import cross_val_score,cross_val_predict\n",
    "from sklearn.model_selection import train_test_split\n",
    "from sklearn.preprocessing import StandardScaler\n",
    "from sklearn.preprocessing import OneHotEncoder\n",
    "from sklearn.decomposition import PCA\n",
    "from sklearn.feature_selection import RFE\n",
    "from mpl_toolkits.mplot3d import Axes3D \n",
    "from sklearn.metrics import mean_squared_error\n",
    "from sklearn.metrics import r2_score\n",
    "from sklearn.metrics import mean_squared_error as MSE\n",
    "from sklearn.metrics import mean_absolute_error as MAE\n",
    "from sklearn.metrics import log_loss\n",
    "from sklearn.model_selection import learning_curve\n",
    "import matplotlib\n",
    "import matplotlib.pyplot as plt\n",
    "import matplotlib.cm as cm\n",
    "import shap\n",
    "import seaborn as sns\n",
    "import numpy as np\n",
    "import pandas as pd\n",
    "import os"
   ]
  },
  {
   "cell_type": "code",
   "execution_count": 2,
   "id": "d6d22a77",
   "metadata": {},
   "outputs": [],
   "source": [
    "# 定义一个函数来执行 Y Scrambling 并评估模型\n",
    "def perform_y_scrambling(model, X_train, X_val, Y_train, Y_val, num_iterations=10):\n",
    "   original_score = model.fit(X_train, Y_train).score(X_val, Y_val)\n",
    "   print(\"Original Model Score:\", original_score)\n",
    "\n",
    "   scores = []\n",
    "   for i in range(num_iterations):\n",
    "      Y_train_scrambled = np.random.permutation(Y_train)  # Shuffle the target variable\n",
    "      model.fit(X_train, Y_train_scrambled)  # Retrain the model on scrambled data\n",
    "      score = model.score(X_val, Y_val)  # Evaluate the model on validation set\n",
    "      scores.append(score)\n",
    "\n",
    "   avg_score = np.mean(scores)\n",
    "   print(\"Y Scrambling Average Score:\", avg_score)\n",
    "\n",
    "   score_difference = original_score - avg_score\n",
    "   print(\"Score Difference:\", score_difference)"
   ]
  },
  {
   "cell_type": "code",
   "execution_count": 131,
   "id": "4b73e710",
   "metadata": {
    "ExecuteTime": {
     "end_time": "2023-09-11T12:03:46.138102Z",
     "start_time": "2023-09-11T12:03:45.509779Z"
    }
   },
   "outputs": [],
   "source": [
    "# 导入数据(anti)\n",
    "data = pd.read_excel('./data_anti.xlsx')\n",
    "data = data.loc[:,[\"material\",\"concentration(umol/ml)\",\"shape\",\"diameter(nm)\",\"temperature(℃)\",\"time(hr)\",\"bacteria\",\"ZOI(mm)\"]] # ZOI\n",
    "#data = data.loc[:,[\"material\",\"concentration(umol/ml)\",\"shape\",\"diameter(nm)\",\"temperature(℃)\",\"time(hr)\",\"bacteria\",\"rate(%)\"]] # rate\n",
    "#data = data.loc[:,[\"material\",\"shape\",\"diameter(nm)\",\"temperature(℃)\",\"time(hr)\",\"bacteria\",\"MIC(ug/ml)\"]] # MIC\n",
    "#data = data.loc[:,[\"material\",\"shape\",\"diameter(nm)\",\"temperature(℃)\",\"time(hr)\",\"bacteria\",\"MBC(ug/ml)\"]] # MBC\n",
    "#data = data.loc[:,[\"material\",\"concentration(ug/ml)\",\"shape\",\"temperature(℃)\",\"time(hr)\",\"bacteria\",\"ZOI(mm)\"]] # ZOI—shape-无size\n",
    "#data = data.loc[:,[\"material\",\"concentration(umol/ml)\",\"shape\",\"diameter(nm)\",\"temperature(℃)\",\"time(hr)\",\"bacteria\",\"Density(cfu/ml)\",\"ZOI(mm)\"]] # ZOI-Density\n",
    "data = data[data[\"shape\"].isin([\"spherical\"])]\n",
    "data=data.dropna(axis=0)\n",
    "data.index = range(data.shape[0])#删除有缺失值的行之后恢复索引\n",
    "\n",
    "# 独热编码\n",
    "x_onehot = data.loc[:,[\"material\",\"shape\",\"bacteria\"]]\n",
    "ohe = OneHotEncoder(categories='auto').fit(x_onehot)#auto让模型自行查看有哪些类别\n",
    "result = ohe.transform(x_onehot).toarray()\n",
    "result = pd.DataFrame(result, columns=list(ohe.get_feature_names_out()))\n",
    "data = pd.concat([data,result],axis=1)\n",
    "data.drop([\"material\",\"shape\",\"bacteria\"],axis=1,inplace=True)\n",
    "X = data.drop([\"ZOI(mm)\"],axis=1)\n",
    "y=data[\"ZOI(mm)\"]\n",
    "#y=np.log(y)\n",
    "\n",
    "#对特征进行数据标准化\n",
    "X = StandardScaler().fit_transform(X)"
   ]
  },
  {
   "cell_type": "code",
   "execution_count": 9,
   "id": "1c04d91e",
   "metadata": {},
   "outputs": [],
   "source": [
    "# 导入数据（shape）\n",
    "data = pd.read_excel('./data_anti.xlsx')\n",
    "data = data.loc[:,[\"material\",\"concentration(umol/ml)\",\"shape\",\"temperature(℃)\",\"time(hr)\",\"bacteria\",\"ZOI(mm)\"]]\n",
    "data=data.dropna(axis=0)\n",
    "data.index = range(data.shape[0])#删除有缺失值的行之后恢复索引\n",
    "\n",
    "# 独热编码\n",
    "x_onehot = data.loc[:,[\"material\",\"shape\",\"bacteria\"]]\n",
    "ohe = OneHotEncoder(categories='auto').fit(x_onehot)#auto让模型自行查看有哪些类别\n",
    "result = ohe.transform(x_onehot).toarray()\n",
    "result = pd.DataFrame(result, columns=list(ohe.get_feature_names_out()))\n",
    "data = pd.concat([data,result],axis=1)\n",
    "data.drop([\"material\",\"shape\",\"bacteria\"],axis=1,inplace=True)\n",
    "X = data.drop([\"ZOI(mm)\"],axis=1)\n",
    "Columns = X.columns\n",
    "y=data[\"ZOI(mm)\"]\n",
    "\n",
    "#对特征进行数据标准化\n",
    "X_std = StandardScaler().fit_transform(X)\n",
    "X = pd.DataFrame(X_std)\n",
    "X.columns = Columns"
   ]
  },
  {
   "cell_type": "code",
   "execution_count": 17,
   "id": "cf3ad8da",
   "metadata": {},
   "outputs": [],
   "source": [
    "# 导入数据(cell viability)\n",
    "data = pd.read_excel('./data_Cell_Viability.xlsx')\n",
    "data = data.loc[:,[\"Material\",\"Concentration(umol/ml)\",\"Diameter(nm)\",\"Cell_Type\",\"Cell_Source\",\"Cell_Tissue\"\n",
    "                   ,\"Cell_Morphology\",\"Cell Line_P Cell\",\"Time(hr)\",\"Test\",\"Cell_Viability(%)\"]]\n",
    "# data = data[data[\"shape\"].isin([\"spherical\"])]\n",
    "data=data.dropna(axis=0)\n",
    "data.index = range(data.shape[0])#删除有缺失值的行之后恢复索引\n",
    "\n",
    "# 独热编码\n",
    "x_onehot = data.loc[:,[\"Material\",\"Cell_Type\",\"Cell_Source\",\"Cell_Tissue\",\"Cell_Morphology\",\"Cell Line_P Cell\",\"Test\"]]\n",
    "ohe = OneHotEncoder(categories='auto').fit(x_onehot)#auto让模型自行查看有哪些类别\n",
    "result = ohe.transform(x_onehot).toarray()\n",
    "result = pd.DataFrame(result, columns=list(ohe.get_feature_names_out()))\n",
    "data = pd.concat([data,result],axis=1)\n",
    "data.drop([\"Material\",\"Cell_Type\",\"Cell_Source\",\"Cell_Tissue\",\"Cell_Morphology\",\"Cell Line_P Cell\",\"Test\"],axis=1,inplace=True)\n",
    "X = data.drop([\"Cell_Viability(%)\"],axis=1)\n",
    "y=data[\"Cell_Viability(%)\"]\n",
    "\n",
    "#对特征进行数据标准化\n",
    "X = StandardScaler().fit_transform(X)\n"
   ]
  },
  {
   "cell_type": "markdown",
   "id": "c3d2b3f2",
   "metadata": {},
   "source": [
    "# DecisionTreeRegressor"
   ]
  },
  {
   "cell_type": "code",
   "execution_count": 18,
   "id": "f50d1ccd",
   "metadata": {
    "ExecuteTime": {
     "end_time": "2023-06-09T13:40:57.809851Z",
     "start_time": "2023-06-09T13:40:57.774945Z"
    }
   },
   "outputs": [
    {
     "name": "stdout",
     "output_type": "stream",
     "text": [
      "5cv: 0.5730186806653625 TEST: 0.7184342122409468\n"
     ]
    }
   ],
   "source": [
    "Xtrain,Xtest,Ytrain,Ytest = train_test_split(X,y,test_size=0.2,random_state=60)\n",
    "\n",
    "rfc = DecisionTreeRegressor(random_state=60)\n",
    "CV_score = cross_val_score(rfc, Xtrain, Ytrain, cv=5).mean()\n",
    "regressor = rfc.fit(Xtrain, Ytrain)\n",
    "score_test = regressor.score(Xtest,Ytest)\n",
    "print(\"5cv:\",CV_score,\"TEST:\",score_test)"
   ]
  },
  {
   "cell_type": "code",
   "execution_count": 22,
   "id": "0edc0fe3",
   "metadata": {
    "ExecuteTime": {
     "end_time": "2023-06-09T13:42:06.955579Z",
     "start_time": "2023-06-09T13:42:00.048899Z"
    }
   },
   "outputs": [
    {
     "name": "stdout",
     "output_type": "stream",
     "text": [
      "5cv: 0.669486934434606 TEST: 0.6410587598534746 random_state: 274\n",
      "5cv: 0.6323982551959595 TEST: 0.6448464613862462 random_state: 417\n",
      "5cv: 0.6472965202393649 TEST: 0.6428198152717066 random_state: 420\n"
     ]
    }
   ],
   "source": [
    "for i in range(500):\n",
    "    Xtrain,Xtest,Ytrain,Ytest = train_test_split(X,y,test_size=0.2,random_state=i)\n",
    "    rfc = DecisionTreeRegressor(random_state=60)\n",
    "    CV_score = cross_val_score(rfc, Xtrain, Ytrain, cv=5).mean()\n",
    "    regressor = rfc.fit(Xtrain, Ytrain)\n",
    "    score_test = regressor.score(Xtest,Ytest)\n",
    "#     if CV < CV_score and test < score_test:\n",
    "#         CV = CV_score\n",
    "#         test = score_test\n",
    "    if CV_score>0.63 and score_test>0.63:\n",
    "        print(\"5cv:\",CV_score,\"TEST:\",score_test,\"random_state:\",i)"
   ]
  },
  {
   "cell_type": "code",
   "execution_count": 33,
   "id": "3d090272",
   "metadata": {
    "ExecuteTime": {
     "end_time": "2023-06-09T13:42:15.710627Z",
     "start_time": "2023-06-09T13:42:15.672728Z"
    }
   },
   "outputs": [
    {
     "name": "stdout",
     "output_type": "stream",
     "text": [
      "5cv: 0.6323982551959595 TEST: 0.6448464613862462\n"
     ]
    }
   ],
   "source": [
    "Xtrain,Xtest,Ytrain,Ytest = train_test_split(X,y,test_size=0.2,random_state=417)\n",
    "\n",
    "rfc = DecisionTreeRegressor(random_state=60)\n",
    "CV_score = cross_val_score(rfc, Xtrain, Ytrain, cv=5).mean()\n",
    "regressor = rfc.fit(Xtrain, Ytrain)\n",
    "CV_predictions = cross_val_predict(rfc, Xtrain,Ytrain,cv=5)\n",
    "rmse = np.sqrt(mean_squared_error(Ytrain,CV_predictions))\n",
    "\n",
    "score_test = regressor.score(Xtest,Ytest)\n",
    "print(\"5cv:\",CV_score,\"TEST:\",score_test)"
   ]
  },
  {
   "cell_type": "code",
   "execution_count": 34,
   "id": "706269cc",
   "metadata": {
    "ExecuteTime": {
     "end_time": "2023-06-09T13:42:25.626166Z",
     "start_time": "2023-06-09T13:42:19.595106Z"
    }
   },
   "outputs": [
    {
     "name": "stdout",
     "output_type": "stream",
     "text": [
      "Best_5cv score：0.6393079021659165 random_5cv:10\n",
      "Best_5cv score：0.6393079021659165 max_depth_5cv:43\n",
      "Best_5cv score：0.6393079021659165 max_features_5cv:177\n"
     ]
    }
   ],
   "source": [
    "score_5cv_all = []\n",
    "for i in range(0, 200, 1):\n",
    "    rfc =DecisionTreeRegressor(random_state=i)\n",
    "    score_5cv =cross_val_score(rfc, Xtrain, Ytrain, cv=5).mean()\n",
    "    score_5cv_all.append(score_5cv)\n",
    "    pass\n",
    "\n",
    "score_max_5cv = max(score_5cv_all)\n",
    "random_state_5cv = range(0, 200)[score_5cv_all.index(max(score_5cv_all))]\n",
    "\n",
    "print(\"Best_5cv score：{}\".format(score_max_5cv),\n",
    "      \"random_5cv:{}\".format(random_state_5cv))\n",
    "\n",
    "\n",
    "score_5cv_all = []\n",
    "for i in range(1, 300, 1):\n",
    "    rfc = DecisionTreeRegressor(random_state=random_state_5cv\n",
    "                                ,max_depth=i)\n",
    "    score_5cv = cross_val_score(rfc, Xtrain, Ytrain, cv=5).mean()\n",
    "    score_5cv_all.append(score_5cv)\n",
    "    pass\n",
    "\n",
    "score_max_5cv = max(score_5cv_all)\n",
    "max_depth_5cv = range(1,300)[score_5cv_all.index(score_max_5cv)]\n",
    "\n",
    "print(\"Best_5cv score：{}\".format(score_max_5cv),\n",
    "      \"max_depth_5cv:{}\".format(max_depth_5cv))\n",
    "\n",
    "\n",
    "score_5cv_all = []\n",
    "for i in range(1,X.shape[1]+1):\n",
    "    rfc = DecisionTreeRegressor(random_state=random_state_5cv\n",
    "                                ,max_depth=max_depth_5cv\n",
    "                                ,max_features=i)\n",
    "    score_5cv = cross_val_score(rfc, Xtrain, Ytrain, cv=5).mean()\n",
    "    score_5cv_all.append(score_5cv)\n",
    "    pass\n",
    "\n",
    "score_max_5cv = max(score_5cv_all)\n",
    "max_features_5cv = range(1, X.shape[1]+1)[score_5cv_all.index(score_max_5cv)]\n",
    "\n",
    "print(\"Best_5cv score：{}\".format(score_max_5cv),\n",
    "      \"max_features_5cv:{}\".format(max_features_5cv))"
   ]
  },
  {
   "cell_type": "code",
   "execution_count": 36,
   "id": "623d479c",
   "metadata": {
    "ExecuteTime": {
     "end_time": "2023-06-09T13:42:50.133037Z",
     "start_time": "2023-06-09T13:42:50.097135Z"
    }
   },
   "outputs": [
    {
     "name": "stdout",
     "output_type": "stream",
     "text": [
      "r2_5cv: 0.6393079021659165 rmse_5CV 19.15017263015997\n",
      "r2_test: 0.6370692555689275 rmse_test 18.74550767055514\n"
     ]
    }
   ],
   "source": [
    "rfc = DecisionTreeRegressor(random_state=random_state_5cv\n",
    "                            ,max_depth=max_depth_5cv\n",
    "                            ,max_features=max_features_5cv)\n",
    "\n",
    "CV_score = cross_val_score(rfc, Xtrain, Ytrain, cv=5).mean()\n",
    "CV_predictions = cross_val_predict(rfc, Xtrain,Ytrain,cv=5)\n",
    "rmse = np.sqrt(mean_squared_error(Ytrain,CV_predictions))\n",
    "print(\"r2_5cv:\",CV_score,\"rmse_5CV\",rmse)\n",
    "\n",
    "regressor = rfc.fit(Xtrain, Ytrain)\n",
    "test_predictions = regressor.predict(Xtest)\n",
    "score_test = regressor.score(Xtest,Ytest)\n",
    "rmse = np.sqrt(mean_squared_error(Ytest,test_predictions))\n",
    "print(\"r2_test:\",score_test,\"rmse_test\",rmse)"
   ]
  },
  {
   "cell_type": "code",
   "execution_count": 37,
   "id": "254eb430",
   "metadata": {},
   "outputs": [
    {
     "name": "stdout",
     "output_type": "stream",
     "text": [
      "Original Model Score: 0.6370692555689275\n",
      "Y Scrambling Average Score: -1.2412528138330434\n",
      "Score Difference: 1.8783220694019709\n"
     ]
    }
   ],
   "source": [
    "# 执行Y-Scrambling\n",
    "perform_y_scrambling(rfc, Xtrain, Xtest, Ytrain, Ytest, num_iterations=10)"
   ]
  },
  {
   "cell_type": "markdown",
   "id": "3e90608e",
   "metadata": {},
   "source": [
    "# GBDT"
   ]
  },
  {
   "cell_type": "code",
   "execution_count": 16,
   "id": "b1b1b75b",
   "metadata": {
    "ExecuteTime": {
     "end_time": "2023-09-09T12:25:18.804574Z",
     "start_time": "2023-09-09T12:25:18.387622Z"
    }
   },
   "outputs": [
    {
     "name": "stdout",
     "output_type": "stream",
     "text": [
      "5cv: 0.4009328208275399 TEST: 0.33467350945441376\n"
     ]
    }
   ],
   "source": [
    "Xtrain,Xtest,Ytrain,Ytest = train_test_split(X,y,test_size=0.2,random_state=60)\n",
    "\n",
    "rfc = GradientBoostingRegressor(random_state=10)\n",
    "CV_score = cross_val_score(rfc, Xtrain, Ytrain, cv=5).mean()\n",
    "regressor = rfc.fit(Xtrain, Ytrain)\n",
    "score_test = regressor.score(Xtest,Ytest)\n",
    "print(\"5cv:\",CV_score,\"TEST:\",score_test)"
   ]
  },
  {
   "cell_type": "code",
   "execution_count": 21,
   "id": "5bbeea3a",
   "metadata": {
    "ExecuteTime": {
     "end_time": "2023-06-21T09:00:45.575860Z",
     "start_time": "2023-06-21T08:59:55.873165Z"
    }
   },
   "outputs": [
    {
     "name": "stdout",
     "output_type": "stream",
     "text": [
      "5cv: 0.39504474345831353 TEST: 0.3964659021646513 random_state: 290\n",
      "5cv: 0.39721416182303015 TEST: 0.3977864376676816 random_state: 296\n",
      "5cv: 0.3961655631986966 TEST: 0.41742656297727576 random_state: 384\n"
     ]
    }
   ],
   "source": [
    "for i in range(500):\n",
    "    Xtrain,Xtest,Ytrain,Ytest = train_test_split(X,y,test_size=0.2,random_state=i)\n",
    "    rfc = GradientBoostingRegressor(random_state=60)\n",
    "    CV_score = cross_val_score(rfc, Xtrain, Ytrain, cv=5).mean()\n",
    "    regressor = rfc.fit(Xtrain, Ytrain)\n",
    "    score_test = regressor.score(Xtest,Ytest)\n",
    "#     if CV < CV_score and test < score_test:\n",
    "#         CV = CV_score\n",
    "#         test = score_test\n",
    "    if CV_score>0.39 and score_test>0.39:\n",
    "        print(\"5cv:\",CV_score,\"TEST:\",score_test,\"random_state:\",i)"
   ]
  },
  {
   "cell_type": "code",
   "execution_count": 12,
   "id": "660c02d9",
   "metadata": {
    "ExecuteTime": {
     "end_time": "2023-06-09T13:13:01.194163Z",
     "start_time": "2023-06-09T13:13:00.335430Z"
    }
   },
   "outputs": [
    {
     "name": "stdout",
     "output_type": "stream",
     "text": [
      "5cv: 0.3961655631986966 TEST: 0.41742656297727576\n",
      "rmse_5CV 5.900849811315124\n"
     ]
    }
   ],
   "source": [
    "Xtrain,Xtest,Ytrain,Ytest = train_test_split(X,y,test_size=0.2,random_state=384)\n",
    "\n",
    "rfc = GradientBoostingRegressor(random_state=60)\n",
    "CV_score = cross_val_score(rfc, Xtrain, Ytrain, cv=5).mean()\n",
    "regressor = rfc.fit(Xtrain, Ytrain)\n",
    "CV_predictions = cross_val_predict(rfc, Xtrain,Ytrain,cv=5)\n",
    "rmse = np.sqrt(mean_squared_error(Ytrain,CV_predictions))\n",
    "\n",
    "score_test = regressor.score(Xtest,Ytest)\n",
    "print(\"5cv:\",CV_score,\"TEST:\",score_test)\n",
    "print(\"rmse_5CV\",rmse)"
   ]
  },
  {
   "cell_type": "code",
   "execution_count": 13,
   "id": "0659adbe",
   "metadata": {
    "ExecuteTime": {
     "end_time": "2023-06-09T13:18:50.854715Z",
     "start_time": "2023-06-09T13:13:05.213850Z"
    },
    "collapsed": true
   },
   "outputs": [
    {
     "name": "stdout",
     "output_type": "stream",
     "text": [
      "Best_5cv score：0.3966816697131931 random_5cv:181\n",
      "Best_5cv score：0.5175881838705316 n_est_5cv:398\n",
      "Best_5cv score：0.5490509970799138 max_depth_5cv:5\n",
      "Best_5cv score：0.570193080795311 max_features_5cv:53\n"
     ]
    }
   ],
   "source": [
    "score_5cv_all = []\n",
    "for i in range(0, 200, 1):\n",
    "    rfc =GradientBoostingRegressor(random_state=i)\n",
    "    score_5cv =cross_val_score(rfc, Xtrain, Ytrain, cv=5).mean()\n",
    "    score_5cv_all.append(score_5cv)\n",
    "    pass\n",
    "\n",
    "score_max_5cv = max(score_5cv_all)\n",
    "random_state_5cv = range(0, 200)[score_5cv_all.index(max(score_5cv_all))]\n",
    "\n",
    "print(\"Best_5cv score：{}\".format(score_max_5cv),\n",
    "      \"random_5cv:{}\".format(random_state_5cv))\n",
    "\n",
    "\n",
    "score_5cv_all = []\n",
    "for i in range(1, 400, 1):\n",
    "    rfc = GradientBoostingRegressor(n_estimators=i\n",
    "                                , random_state=random_state_5cv)\n",
    "    score_5cv = cross_val_score(rfc, Xtrain, Ytrain, cv=5).mean()\n",
    "    score_5cv_all.append(score_5cv)\n",
    "    pass\n",
    "\n",
    "score_max_5cv = max(score_5cv_all)\n",
    "n_est_5cv = range(1,400)[score_5cv_all.index(score_max_5cv)]\n",
    "\n",
    "print(\"Best_5cv score：{}\".format(score_max_5cv),\n",
    "      \"n_est_5cv:{}\".format(n_est_5cv))\n",
    "\n",
    "\n",
    "score_5cv_all = []\n",
    "for i in range(1, 300, 1):\n",
    "    rfc = GradientBoostingRegressor(n_estimators=n_est_5cv\n",
    "                                ,random_state=random_state_5cv\n",
    "                                ,max_depth=i)\n",
    "    score_5cv = cross_val_score(rfc, Xtrain, Ytrain, cv=5).mean()\n",
    "    score_5cv_all.append(score_5cv)\n",
    "    pass\n",
    "\n",
    "score_max_5cv = max(score_5cv_all)\n",
    "max_depth_5cv = range(1,300)[score_5cv_all.index(score_max_5cv)]\n",
    "\n",
    "print(\"Best_5cv score：{}\".format(score_max_5cv),\n",
    "      \"max_depth_5cv:{}\".format(max_depth_5cv))\n",
    "\n",
    "\n",
    "score_5cv_all = []\n",
    "for i in range(1,X.shape[1]+1):\n",
    "    rfc = GradientBoostingRegressor(n_estimators=n_est_5cv\n",
    "                                ,random_state=random_state_5cv\n",
    "                                ,max_depth=max_depth_5cv\n",
    "                                ,max_features=i)\n",
    "    score_5cv = cross_val_score(rfc, Xtrain, Ytrain, cv=5).mean()\n",
    "    score_5cv_all.append(score_5cv)\n",
    "    pass\n",
    "\n",
    "score_max_5cv = max(score_5cv_all)\n",
    "max_features_5cv = range(1, X.shape[1]+1)[score_5cv_all.index(score_max_5cv)]\n",
    "\n",
    "print(\"Best_5cv score：{}\".format(score_max_5cv),\n",
    "      \"max_features_5cv:{}\".format(max_features_5cv))"
   ]
  },
  {
   "cell_type": "code",
   "execution_count": 14,
   "id": "e6f6d280",
   "metadata": {
    "ExecuteTime": {
     "end_time": "2023-04-18T00:43:27.459693Z",
     "start_time": "2023-04-18T00:43:27.129733Z"
    },
    "collapsed": true
   },
   "outputs": [
    {
     "name": "stdout",
     "output_type": "stream",
     "text": [
      "r2_5cv: 0.570193080795311 rmse_5CV 4.963273891915994\n",
      "r2_test: 0.6022880645755647 rmse_test 4.62709518189357\n"
     ]
    }
   ],
   "source": [
    "rfc = GradientBoostingRegressor(n_estimators=n_est_5cv\n",
    "                                ,random_state=random_state_5cv\n",
    "                                ,max_depth=max_depth_5cv\n",
    "                                ,max_features=max_features_5cv)\n",
    "\n",
    "CV_score = cross_val_score(rfc, Xtrain, Ytrain, cv=5).mean()\n",
    "CV_predictions = cross_val_predict(rfc, Xtrain,Ytrain,cv=5)\n",
    "rmse = np.sqrt(mean_squared_error(Ytrain,CV_predictions))\n",
    "print(\"r2_5cv:\",CV_score,\"rmse_5CV\",rmse)\n",
    "\n",
    "regressor = rfc.fit(Xtrain, Ytrain)\n",
    "test_predictions = regressor.predict(Xtest)\n",
    "score_test = regressor.score(Xtest,Ytest)\n",
    "rmse = np.sqrt(mean_squared_error(Ytest,test_predictions))\n",
    "print(\"r2_test:\",score_test,\"rmse_test\",rmse)"
   ]
  },
  {
   "cell_type": "code",
   "execution_count": 25,
   "id": "e623968a",
   "metadata": {},
   "outputs": [
    {
     "name": "stdout",
     "output_type": "stream",
     "text": [
      "Original Model Score: 0.6022880645755647\n",
      "Y Scrambling Average Score: -0.3296364393061249\n",
      "Score Difference: 0.9319245038816897\n"
     ]
    }
   ],
   "source": [
    "# 执行Y-Scrambling\n",
    "perform_y_scrambling(rfc, Xtrain, Xtest, Ytrain, Ytest, num_iterations=10)"
   ]
  },
  {
   "cell_type": "markdown",
   "id": "3df787b4",
   "metadata": {},
   "source": [
    "# RF"
   ]
  },
  {
   "cell_type": "code",
   "execution_count": 45,
   "id": "508596bf",
   "metadata": {
    "ExecuteTime": {
     "end_time": "2023-03-28T11:27:30.514888Z",
     "start_time": "2023-03-28T11:27:30.108975Z"
    }
   },
   "outputs": [
    {
     "name": "stdout",
     "output_type": "stream",
     "text": [
      "5cv: 0.7499116941965088 TEST: 0.8187416222746775\n"
     ]
    }
   ],
   "source": [
    "Xtrain,Xtest,Ytrain,Ytest = train_test_split(X,y,test_size=0.2,random_state=60)\n",
    "\n",
    "rfc = RandomForestRegressor(random_state=60)\n",
    "CV_score = cross_val_score(rfc, Xtrain, Ytrain, cv=5).mean()\n",
    "regressor = rfc.fit(Xtrain, Ytrain)\n",
    "score_test = regressor.score(Xtest,Ytest)\n",
    "print(\"5cv:\",CV_score,\"TEST:\",score_test)"
   ]
  },
  {
   "cell_type": "code",
   "execution_count": 49,
   "id": "390b4e13",
   "metadata": {
    "ExecuteTime": {
     "end_time": "2023-03-28T11:31:18.313168Z",
     "start_time": "2023-03-28T11:27:59.983015Z"
    }
   },
   "outputs": [
    {
     "name": "stdout",
     "output_type": "stream",
     "text": [
      "5cv: 0.7629512796453077 TEST: 0.7632891180103841 random_state: 0\n",
      "5cv: 0.7642267482018694 TEST: 0.8037475712987346 random_state: 1\n",
      "5cv: 0.7613585792593967 TEST: 0.7837469090437171 random_state: 14\n",
      "5cv: 0.7617132008074494 TEST: 0.8258982260580247 random_state: 28\n",
      "5cv: 0.7608221414510631 TEST: 0.7849820198005792 random_state: 33\n",
      "5cv: 0.7607054364686913 TEST: 0.7777822408818275 random_state: 36\n",
      "5cv: 0.7600576262242604 TEST: 0.7930742472380755 random_state: 41\n",
      "5cv: 0.7666925049211479 TEST: 0.7682971140484884 random_state: 47\n",
      "5cv: 0.7603197169031192 TEST: 0.7736019436905303 random_state: 48\n",
      "5cv: 0.7602160072403059 TEST: 0.7976440024458226 random_state: 57\n",
      "5cv: 0.7642165581037795 TEST: 0.7815132854905553 random_state: 61\n",
      "5cv: 0.7610061573950347 TEST: 0.7859530719875533 random_state: 63\n",
      "5cv: 0.7723105115167421 TEST: 0.7618236966491785 random_state: 76\n",
      "5cv: 0.7609029757569863 TEST: 0.7706243474237167 random_state: 81\n",
      "5cv: 0.7610671224442708 TEST: 0.7663728781062513 random_state: 89\n",
      "5cv: 0.7687804150328255 TEST: 0.7799580988976736 random_state: 96\n",
      "5cv: 0.765861486011385 TEST: 0.7804706324355967 random_state: 108\n",
      "5cv: 0.7665862567434869 TEST: 0.7979877280776181 random_state: 153\n",
      "5cv: 0.7619379150483383 TEST: 0.7668699832818053 random_state: 162\n",
      "5cv: 0.7613494742053482 TEST: 0.7880189073452744 random_state: 165\n",
      "5cv: 0.7652439758372387 TEST: 0.8152552636686416 random_state: 171\n",
      "5cv: 0.7721870401824875 TEST: 0.7686815698437359 random_state: 175\n",
      "5cv: 0.7614522360387422 TEST: 0.7733722864579209 random_state: 190\n",
      "5cv: 0.7612689985745144 TEST: 0.7759514662666813 random_state: 195\n",
      "5cv: 0.7653265369799948 TEST: 0.779098531864955 random_state: 196\n",
      "5cv: 0.7622619801115397 TEST: 0.7984748590171962 random_state: 201\n",
      "5cv: 0.7601989057087335 TEST: 0.7710263915254362 random_state: 206\n",
      "5cv: 0.7641600856507861 TEST: 0.8083965674100748 random_state: 211\n",
      "5cv: 0.7676985844187781 TEST: 0.7794082887985292 random_state: 217\n",
      "5cv: 0.7625890971975371 TEST: 0.8033298070303673 random_state: 220\n"
     ]
    },
    {
     "ename": "KeyboardInterrupt",
     "evalue": "",
     "output_type": "error",
     "traceback": [
      "\u001b[1;31m---------------------------------------------------------------------------\u001b[0m",
      "\u001b[1;31mKeyboardInterrupt\u001b[0m                         Traceback (most recent call last)",
      "Input \u001b[1;32mIn [49]\u001b[0m, in \u001b[0;36m<cell line: 1>\u001b[1;34m()\u001b[0m\n\u001b[0;32m      2\u001b[0m Xtrain,Xtest,Ytrain,Ytest \u001b[38;5;241m=\u001b[39m train_test_split(X,y,test_size\u001b[38;5;241m=\u001b[39m\u001b[38;5;241m0.2\u001b[39m,random_state\u001b[38;5;241m=\u001b[39mi)\n\u001b[0;32m      3\u001b[0m rfc \u001b[38;5;241m=\u001b[39m RandomForestRegressor(random_state\u001b[38;5;241m=\u001b[39m\u001b[38;5;241m60\u001b[39m)\n\u001b[1;32m----> 4\u001b[0m CV_score \u001b[38;5;241m=\u001b[39m \u001b[43mcross_val_score\u001b[49m\u001b[43m(\u001b[49m\u001b[43mrfc\u001b[49m\u001b[43m,\u001b[49m\u001b[43m \u001b[49m\u001b[43mXtrain\u001b[49m\u001b[43m,\u001b[49m\u001b[43m \u001b[49m\u001b[43mYtrain\u001b[49m\u001b[43m,\u001b[49m\u001b[43m \u001b[49m\u001b[43mcv\u001b[49m\u001b[38;5;241;43m=\u001b[39;49m\u001b[38;5;241;43m5\u001b[39;49m\u001b[43m)\u001b[49m\u001b[38;5;241m.\u001b[39mmean()\n\u001b[0;32m      5\u001b[0m regressor \u001b[38;5;241m=\u001b[39m rfc\u001b[38;5;241m.\u001b[39mfit(Xtrain, Ytrain)\n\u001b[0;32m      6\u001b[0m score_test \u001b[38;5;241m=\u001b[39m regressor\u001b[38;5;241m.\u001b[39mscore(Xtest,Ytest)\n",
      "File \u001b[1;32mc:\\Users\\PC1\\anaconda3\\lib\\site-packages\\sklearn\\model_selection\\_validation.py:509\u001b[0m, in \u001b[0;36mcross_val_score\u001b[1;34m(estimator, X, y, groups, scoring, cv, n_jobs, verbose, fit_params, pre_dispatch, error_score)\u001b[0m\n\u001b[0;32m    506\u001b[0m \u001b[38;5;66;03m# To ensure multimetric format is not supported\u001b[39;00m\n\u001b[0;32m    507\u001b[0m scorer \u001b[38;5;241m=\u001b[39m check_scoring(estimator, scoring\u001b[38;5;241m=\u001b[39mscoring)\n\u001b[1;32m--> 509\u001b[0m cv_results \u001b[38;5;241m=\u001b[39m \u001b[43mcross_validate\u001b[49m\u001b[43m(\u001b[49m\n\u001b[0;32m    510\u001b[0m \u001b[43m    \u001b[49m\u001b[43mestimator\u001b[49m\u001b[38;5;241;43m=\u001b[39;49m\u001b[43mestimator\u001b[49m\u001b[43m,\u001b[49m\n\u001b[0;32m    511\u001b[0m \u001b[43m    \u001b[49m\u001b[43mX\u001b[49m\u001b[38;5;241;43m=\u001b[39;49m\u001b[43mX\u001b[49m\u001b[43m,\u001b[49m\n\u001b[0;32m    512\u001b[0m \u001b[43m    \u001b[49m\u001b[43my\u001b[49m\u001b[38;5;241;43m=\u001b[39;49m\u001b[43my\u001b[49m\u001b[43m,\u001b[49m\n\u001b[0;32m    513\u001b[0m \u001b[43m    \u001b[49m\u001b[43mgroups\u001b[49m\u001b[38;5;241;43m=\u001b[39;49m\u001b[43mgroups\u001b[49m\u001b[43m,\u001b[49m\n\u001b[0;32m    514\u001b[0m \u001b[43m    \u001b[49m\u001b[43mscoring\u001b[49m\u001b[38;5;241;43m=\u001b[39;49m\u001b[43m{\u001b[49m\u001b[38;5;124;43m\"\u001b[39;49m\u001b[38;5;124;43mscore\u001b[39;49m\u001b[38;5;124;43m\"\u001b[39;49m\u001b[43m:\u001b[49m\u001b[43m \u001b[49m\u001b[43mscorer\u001b[49m\u001b[43m}\u001b[49m\u001b[43m,\u001b[49m\n\u001b[0;32m    515\u001b[0m \u001b[43m    \u001b[49m\u001b[43mcv\u001b[49m\u001b[38;5;241;43m=\u001b[39;49m\u001b[43mcv\u001b[49m\u001b[43m,\u001b[49m\n\u001b[0;32m    516\u001b[0m \u001b[43m    \u001b[49m\u001b[43mn_jobs\u001b[49m\u001b[38;5;241;43m=\u001b[39;49m\u001b[43mn_jobs\u001b[49m\u001b[43m,\u001b[49m\n\u001b[0;32m    517\u001b[0m \u001b[43m    \u001b[49m\u001b[43mverbose\u001b[49m\u001b[38;5;241;43m=\u001b[39;49m\u001b[43mverbose\u001b[49m\u001b[43m,\u001b[49m\n\u001b[0;32m    518\u001b[0m \u001b[43m    \u001b[49m\u001b[43mfit_params\u001b[49m\u001b[38;5;241;43m=\u001b[39;49m\u001b[43mfit_params\u001b[49m\u001b[43m,\u001b[49m\n\u001b[0;32m    519\u001b[0m \u001b[43m    \u001b[49m\u001b[43mpre_dispatch\u001b[49m\u001b[38;5;241;43m=\u001b[39;49m\u001b[43mpre_dispatch\u001b[49m\u001b[43m,\u001b[49m\n\u001b[0;32m    520\u001b[0m \u001b[43m    \u001b[49m\u001b[43merror_score\u001b[49m\u001b[38;5;241;43m=\u001b[39;49m\u001b[43merror_score\u001b[49m\u001b[43m,\u001b[49m\n\u001b[0;32m    521\u001b[0m \u001b[43m\u001b[49m\u001b[43m)\u001b[49m\n\u001b[0;32m    522\u001b[0m \u001b[38;5;28;01mreturn\u001b[39;00m cv_results[\u001b[38;5;124m\"\u001b[39m\u001b[38;5;124mtest_score\u001b[39m\u001b[38;5;124m\"\u001b[39m]\n",
      "File \u001b[1;32mc:\\Users\\PC1\\anaconda3\\lib\\site-packages\\sklearn\\model_selection\\_validation.py:267\u001b[0m, in \u001b[0;36mcross_validate\u001b[1;34m(estimator, X, y, groups, scoring, cv, n_jobs, verbose, fit_params, pre_dispatch, return_train_score, return_estimator, error_score)\u001b[0m\n\u001b[0;32m    264\u001b[0m \u001b[38;5;66;03m# We clone the estimator to make sure that all the folds are\u001b[39;00m\n\u001b[0;32m    265\u001b[0m \u001b[38;5;66;03m# independent, and that it is pickle-able.\u001b[39;00m\n\u001b[0;32m    266\u001b[0m parallel \u001b[38;5;241m=\u001b[39m Parallel(n_jobs\u001b[38;5;241m=\u001b[39mn_jobs, verbose\u001b[38;5;241m=\u001b[39mverbose, pre_dispatch\u001b[38;5;241m=\u001b[39mpre_dispatch)\n\u001b[1;32m--> 267\u001b[0m results \u001b[38;5;241m=\u001b[39m \u001b[43mparallel\u001b[49m\u001b[43m(\u001b[49m\n\u001b[0;32m    268\u001b[0m \u001b[43m    \u001b[49m\u001b[43mdelayed\u001b[49m\u001b[43m(\u001b[49m\u001b[43m_fit_and_score\u001b[49m\u001b[43m)\u001b[49m\u001b[43m(\u001b[49m\n\u001b[0;32m    269\u001b[0m \u001b[43m        \u001b[49m\u001b[43mclone\u001b[49m\u001b[43m(\u001b[49m\u001b[43mestimator\u001b[49m\u001b[43m)\u001b[49m\u001b[43m,\u001b[49m\n\u001b[0;32m    270\u001b[0m \u001b[43m        \u001b[49m\u001b[43mX\u001b[49m\u001b[43m,\u001b[49m\n\u001b[0;32m    271\u001b[0m \u001b[43m        \u001b[49m\u001b[43my\u001b[49m\u001b[43m,\u001b[49m\n\u001b[0;32m    272\u001b[0m \u001b[43m        \u001b[49m\u001b[43mscorers\u001b[49m\u001b[43m,\u001b[49m\n\u001b[0;32m    273\u001b[0m \u001b[43m        \u001b[49m\u001b[43mtrain\u001b[49m\u001b[43m,\u001b[49m\n\u001b[0;32m    274\u001b[0m \u001b[43m        \u001b[49m\u001b[43mtest\u001b[49m\u001b[43m,\u001b[49m\n\u001b[0;32m    275\u001b[0m \u001b[43m        \u001b[49m\u001b[43mverbose\u001b[49m\u001b[43m,\u001b[49m\n\u001b[0;32m    276\u001b[0m \u001b[43m        \u001b[49m\u001b[38;5;28;43;01mNone\u001b[39;49;00m\u001b[43m,\u001b[49m\n\u001b[0;32m    277\u001b[0m \u001b[43m        \u001b[49m\u001b[43mfit_params\u001b[49m\u001b[43m,\u001b[49m\n\u001b[0;32m    278\u001b[0m \u001b[43m        \u001b[49m\u001b[43mreturn_train_score\u001b[49m\u001b[38;5;241;43m=\u001b[39;49m\u001b[43mreturn_train_score\u001b[49m\u001b[43m,\u001b[49m\n\u001b[0;32m    279\u001b[0m \u001b[43m        \u001b[49m\u001b[43mreturn_times\u001b[49m\u001b[38;5;241;43m=\u001b[39;49m\u001b[38;5;28;43;01mTrue\u001b[39;49;00m\u001b[43m,\u001b[49m\n\u001b[0;32m    280\u001b[0m \u001b[43m        \u001b[49m\u001b[43mreturn_estimator\u001b[49m\u001b[38;5;241;43m=\u001b[39;49m\u001b[43mreturn_estimator\u001b[49m\u001b[43m,\u001b[49m\n\u001b[0;32m    281\u001b[0m \u001b[43m        \u001b[49m\u001b[43merror_score\u001b[49m\u001b[38;5;241;43m=\u001b[39;49m\u001b[43merror_score\u001b[49m\u001b[43m,\u001b[49m\n\u001b[0;32m    282\u001b[0m \u001b[43m    \u001b[49m\u001b[43m)\u001b[49m\n\u001b[0;32m    283\u001b[0m \u001b[43m    \u001b[49m\u001b[38;5;28;43;01mfor\u001b[39;49;00m\u001b[43m \u001b[49m\u001b[43mtrain\u001b[49m\u001b[43m,\u001b[49m\u001b[43m \u001b[49m\u001b[43mtest\u001b[49m\u001b[43m \u001b[49m\u001b[38;5;129;43;01min\u001b[39;49;00m\u001b[43m \u001b[49m\u001b[43mcv\u001b[49m\u001b[38;5;241;43m.\u001b[39;49m\u001b[43msplit\u001b[49m\u001b[43m(\u001b[49m\u001b[43mX\u001b[49m\u001b[43m,\u001b[49m\u001b[43m \u001b[49m\u001b[43my\u001b[49m\u001b[43m,\u001b[49m\u001b[43m \u001b[49m\u001b[43mgroups\u001b[49m\u001b[43m)\u001b[49m\n\u001b[0;32m    284\u001b[0m \u001b[43m\u001b[49m\u001b[43m)\u001b[49m\n\u001b[0;32m    286\u001b[0m _warn_about_fit_failures(results, error_score)\n\u001b[0;32m    288\u001b[0m \u001b[38;5;66;03m# For callabe scoring, the return type is only know after calling. If the\u001b[39;00m\n\u001b[0;32m    289\u001b[0m \u001b[38;5;66;03m# return type is a dictionary, the error scores can now be inserted with\u001b[39;00m\n\u001b[0;32m    290\u001b[0m \u001b[38;5;66;03m# the correct key.\u001b[39;00m\n",
      "File \u001b[1;32mc:\\Users\\PC1\\anaconda3\\lib\\site-packages\\joblib\\parallel.py:1046\u001b[0m, in \u001b[0;36mParallel.__call__\u001b[1;34m(self, iterable)\u001b[0m\n\u001b[0;32m   1043\u001b[0m \u001b[38;5;28;01mif\u001b[39;00m \u001b[38;5;28mself\u001b[39m\u001b[38;5;241m.\u001b[39mdispatch_one_batch(iterator):\n\u001b[0;32m   1044\u001b[0m     \u001b[38;5;28mself\u001b[39m\u001b[38;5;241m.\u001b[39m_iterating \u001b[38;5;241m=\u001b[39m \u001b[38;5;28mself\u001b[39m\u001b[38;5;241m.\u001b[39m_original_iterator \u001b[38;5;129;01mis\u001b[39;00m \u001b[38;5;129;01mnot\u001b[39;00m \u001b[38;5;28;01mNone\u001b[39;00m\n\u001b[1;32m-> 1046\u001b[0m \u001b[38;5;28;01mwhile\u001b[39;00m \u001b[38;5;28;43mself\u001b[39;49m\u001b[38;5;241;43m.\u001b[39;49m\u001b[43mdispatch_one_batch\u001b[49m\u001b[43m(\u001b[49m\u001b[43miterator\u001b[49m\u001b[43m)\u001b[49m:\n\u001b[0;32m   1047\u001b[0m     \u001b[38;5;28;01mpass\u001b[39;00m\n\u001b[0;32m   1049\u001b[0m \u001b[38;5;28;01mif\u001b[39;00m pre_dispatch \u001b[38;5;241m==\u001b[39m \u001b[38;5;124m\"\u001b[39m\u001b[38;5;124mall\u001b[39m\u001b[38;5;124m\"\u001b[39m \u001b[38;5;129;01mor\u001b[39;00m n_jobs \u001b[38;5;241m==\u001b[39m \u001b[38;5;241m1\u001b[39m:\n\u001b[0;32m   1050\u001b[0m     \u001b[38;5;66;03m# The iterable was consumed all at once by the above for loop.\u001b[39;00m\n\u001b[0;32m   1051\u001b[0m     \u001b[38;5;66;03m# No need to wait for async callbacks to trigger to\u001b[39;00m\n\u001b[0;32m   1052\u001b[0m     \u001b[38;5;66;03m# consumption.\u001b[39;00m\n",
      "File \u001b[1;32mc:\\Users\\PC1\\anaconda3\\lib\\site-packages\\joblib\\parallel.py:861\u001b[0m, in \u001b[0;36mParallel.dispatch_one_batch\u001b[1;34m(self, iterator)\u001b[0m\n\u001b[0;32m    859\u001b[0m     \u001b[38;5;28;01mreturn\u001b[39;00m \u001b[38;5;28;01mFalse\u001b[39;00m\n\u001b[0;32m    860\u001b[0m \u001b[38;5;28;01melse\u001b[39;00m:\n\u001b[1;32m--> 861\u001b[0m     \u001b[38;5;28;43mself\u001b[39;49m\u001b[38;5;241;43m.\u001b[39;49m\u001b[43m_dispatch\u001b[49m\u001b[43m(\u001b[49m\u001b[43mtasks\u001b[49m\u001b[43m)\u001b[49m\n\u001b[0;32m    862\u001b[0m     \u001b[38;5;28;01mreturn\u001b[39;00m \u001b[38;5;28;01mTrue\u001b[39;00m\n",
      "File \u001b[1;32mc:\\Users\\PC1\\anaconda3\\lib\\site-packages\\joblib\\parallel.py:779\u001b[0m, in \u001b[0;36mParallel._dispatch\u001b[1;34m(self, batch)\u001b[0m\n\u001b[0;32m    777\u001b[0m \u001b[38;5;28;01mwith\u001b[39;00m \u001b[38;5;28mself\u001b[39m\u001b[38;5;241m.\u001b[39m_lock:\n\u001b[0;32m    778\u001b[0m     job_idx \u001b[38;5;241m=\u001b[39m \u001b[38;5;28mlen\u001b[39m(\u001b[38;5;28mself\u001b[39m\u001b[38;5;241m.\u001b[39m_jobs)\n\u001b[1;32m--> 779\u001b[0m     job \u001b[38;5;241m=\u001b[39m \u001b[38;5;28;43mself\u001b[39;49m\u001b[38;5;241;43m.\u001b[39;49m\u001b[43m_backend\u001b[49m\u001b[38;5;241;43m.\u001b[39;49m\u001b[43mapply_async\u001b[49m\u001b[43m(\u001b[49m\u001b[43mbatch\u001b[49m\u001b[43m,\u001b[49m\u001b[43m \u001b[49m\u001b[43mcallback\u001b[49m\u001b[38;5;241;43m=\u001b[39;49m\u001b[43mcb\u001b[49m\u001b[43m)\u001b[49m\n\u001b[0;32m    780\u001b[0m     \u001b[38;5;66;03m# A job can complete so quickly than its callback is\u001b[39;00m\n\u001b[0;32m    781\u001b[0m     \u001b[38;5;66;03m# called before we get here, causing self._jobs to\u001b[39;00m\n\u001b[0;32m    782\u001b[0m     \u001b[38;5;66;03m# grow. To ensure correct results ordering, .insert is\u001b[39;00m\n\u001b[0;32m    783\u001b[0m     \u001b[38;5;66;03m# used (rather than .append) in the following line\u001b[39;00m\n\u001b[0;32m    784\u001b[0m     \u001b[38;5;28mself\u001b[39m\u001b[38;5;241m.\u001b[39m_jobs\u001b[38;5;241m.\u001b[39minsert(job_idx, job)\n",
      "File \u001b[1;32mc:\\Users\\PC1\\anaconda3\\lib\\site-packages\\joblib\\_parallel_backends.py:208\u001b[0m, in \u001b[0;36mSequentialBackend.apply_async\u001b[1;34m(self, func, callback)\u001b[0m\n\u001b[0;32m    206\u001b[0m \u001b[38;5;28;01mdef\u001b[39;00m \u001b[38;5;21mapply_async\u001b[39m(\u001b[38;5;28mself\u001b[39m, func, callback\u001b[38;5;241m=\u001b[39m\u001b[38;5;28;01mNone\u001b[39;00m):\n\u001b[0;32m    207\u001b[0m     \u001b[38;5;124;03m\"\"\"Schedule a func to be run\"\"\"\u001b[39;00m\n\u001b[1;32m--> 208\u001b[0m     result \u001b[38;5;241m=\u001b[39m \u001b[43mImmediateResult\u001b[49m\u001b[43m(\u001b[49m\u001b[43mfunc\u001b[49m\u001b[43m)\u001b[49m\n\u001b[0;32m    209\u001b[0m     \u001b[38;5;28;01mif\u001b[39;00m callback:\n\u001b[0;32m    210\u001b[0m         callback(result)\n",
      "File \u001b[1;32mc:\\Users\\PC1\\anaconda3\\lib\\site-packages\\joblib\\_parallel_backends.py:572\u001b[0m, in \u001b[0;36mImmediateResult.__init__\u001b[1;34m(self, batch)\u001b[0m\n\u001b[0;32m    569\u001b[0m \u001b[38;5;28;01mdef\u001b[39;00m \u001b[38;5;21m__init__\u001b[39m(\u001b[38;5;28mself\u001b[39m, batch):\n\u001b[0;32m    570\u001b[0m     \u001b[38;5;66;03m# Don't delay the application, to avoid keeping the input\u001b[39;00m\n\u001b[0;32m    571\u001b[0m     \u001b[38;5;66;03m# arguments in memory\u001b[39;00m\n\u001b[1;32m--> 572\u001b[0m     \u001b[38;5;28mself\u001b[39m\u001b[38;5;241m.\u001b[39mresults \u001b[38;5;241m=\u001b[39m \u001b[43mbatch\u001b[49m\u001b[43m(\u001b[49m\u001b[43m)\u001b[49m\n",
      "File \u001b[1;32mc:\\Users\\PC1\\anaconda3\\lib\\site-packages\\joblib\\parallel.py:262\u001b[0m, in \u001b[0;36mBatchedCalls.__call__\u001b[1;34m(self)\u001b[0m\n\u001b[0;32m    258\u001b[0m \u001b[38;5;28;01mdef\u001b[39;00m \u001b[38;5;21m__call__\u001b[39m(\u001b[38;5;28mself\u001b[39m):\n\u001b[0;32m    259\u001b[0m     \u001b[38;5;66;03m# Set the default nested backend to self._backend but do not set the\u001b[39;00m\n\u001b[0;32m    260\u001b[0m     \u001b[38;5;66;03m# change the default number of processes to -1\u001b[39;00m\n\u001b[0;32m    261\u001b[0m     \u001b[38;5;28;01mwith\u001b[39;00m parallel_backend(\u001b[38;5;28mself\u001b[39m\u001b[38;5;241m.\u001b[39m_backend, n_jobs\u001b[38;5;241m=\u001b[39m\u001b[38;5;28mself\u001b[39m\u001b[38;5;241m.\u001b[39m_n_jobs):\n\u001b[1;32m--> 262\u001b[0m         \u001b[38;5;28;01mreturn\u001b[39;00m [func(\u001b[38;5;241m*\u001b[39margs, \u001b[38;5;241m*\u001b[39m\u001b[38;5;241m*\u001b[39mkwargs)\n\u001b[0;32m    263\u001b[0m                 \u001b[38;5;28;01mfor\u001b[39;00m func, args, kwargs \u001b[38;5;129;01min\u001b[39;00m \u001b[38;5;28mself\u001b[39m\u001b[38;5;241m.\u001b[39mitems]\n",
      "File \u001b[1;32mc:\\Users\\PC1\\anaconda3\\lib\\site-packages\\joblib\\parallel.py:262\u001b[0m, in \u001b[0;36m<listcomp>\u001b[1;34m(.0)\u001b[0m\n\u001b[0;32m    258\u001b[0m \u001b[38;5;28;01mdef\u001b[39;00m \u001b[38;5;21m__call__\u001b[39m(\u001b[38;5;28mself\u001b[39m):\n\u001b[0;32m    259\u001b[0m     \u001b[38;5;66;03m# Set the default nested backend to self._backend but do not set the\u001b[39;00m\n\u001b[0;32m    260\u001b[0m     \u001b[38;5;66;03m# change the default number of processes to -1\u001b[39;00m\n\u001b[0;32m    261\u001b[0m     \u001b[38;5;28;01mwith\u001b[39;00m parallel_backend(\u001b[38;5;28mself\u001b[39m\u001b[38;5;241m.\u001b[39m_backend, n_jobs\u001b[38;5;241m=\u001b[39m\u001b[38;5;28mself\u001b[39m\u001b[38;5;241m.\u001b[39m_n_jobs):\n\u001b[1;32m--> 262\u001b[0m         \u001b[38;5;28;01mreturn\u001b[39;00m [func(\u001b[38;5;241m*\u001b[39margs, \u001b[38;5;241m*\u001b[39m\u001b[38;5;241m*\u001b[39mkwargs)\n\u001b[0;32m    263\u001b[0m                 \u001b[38;5;28;01mfor\u001b[39;00m func, args, kwargs \u001b[38;5;129;01min\u001b[39;00m \u001b[38;5;28mself\u001b[39m\u001b[38;5;241m.\u001b[39mitems]\n",
      "File \u001b[1;32mc:\\Users\\PC1\\anaconda3\\lib\\site-packages\\sklearn\\utils\\fixes.py:216\u001b[0m, in \u001b[0;36m_FuncWrapper.__call__\u001b[1;34m(self, *args, **kwargs)\u001b[0m\n\u001b[0;32m    214\u001b[0m \u001b[38;5;28;01mdef\u001b[39;00m \u001b[38;5;21m__call__\u001b[39m(\u001b[38;5;28mself\u001b[39m, \u001b[38;5;241m*\u001b[39margs, \u001b[38;5;241m*\u001b[39m\u001b[38;5;241m*\u001b[39mkwargs):\n\u001b[0;32m    215\u001b[0m     \u001b[38;5;28;01mwith\u001b[39;00m config_context(\u001b[38;5;241m*\u001b[39m\u001b[38;5;241m*\u001b[39m\u001b[38;5;28mself\u001b[39m\u001b[38;5;241m.\u001b[39mconfig):\n\u001b[1;32m--> 216\u001b[0m         \u001b[38;5;28;01mreturn\u001b[39;00m \u001b[38;5;28mself\u001b[39m\u001b[38;5;241m.\u001b[39mfunction(\u001b[38;5;241m*\u001b[39margs, \u001b[38;5;241m*\u001b[39m\u001b[38;5;241m*\u001b[39mkwargs)\n",
      "File \u001b[1;32mc:\\Users\\PC1\\anaconda3\\lib\\site-packages\\sklearn\\model_selection\\_validation.py:680\u001b[0m, in \u001b[0;36m_fit_and_score\u001b[1;34m(estimator, X, y, scorer, train, test, verbose, parameters, fit_params, return_train_score, return_parameters, return_n_test_samples, return_times, return_estimator, split_progress, candidate_progress, error_score)\u001b[0m\n\u001b[0;32m    678\u001b[0m         estimator\u001b[38;5;241m.\u001b[39mfit(X_train, \u001b[38;5;241m*\u001b[39m\u001b[38;5;241m*\u001b[39mfit_params)\n\u001b[0;32m    679\u001b[0m     \u001b[38;5;28;01melse\u001b[39;00m:\n\u001b[1;32m--> 680\u001b[0m         estimator\u001b[38;5;241m.\u001b[39mfit(X_train, y_train, \u001b[38;5;241m*\u001b[39m\u001b[38;5;241m*\u001b[39mfit_params)\n\u001b[0;32m    682\u001b[0m \u001b[38;5;28;01mexcept\u001b[39;00m \u001b[38;5;167;01mException\u001b[39;00m:\n\u001b[0;32m    683\u001b[0m     \u001b[38;5;66;03m# Note fit time as time until error\u001b[39;00m\n\u001b[0;32m    684\u001b[0m     fit_time \u001b[38;5;241m=\u001b[39m time\u001b[38;5;241m.\u001b[39mtime() \u001b[38;5;241m-\u001b[39m start_time\n",
      "File \u001b[1;32mc:\\Users\\PC1\\anaconda3\\lib\\site-packages\\sklearn\\ensemble\\_forest.py:450\u001b[0m, in \u001b[0;36mBaseForest.fit\u001b[1;34m(self, X, y, sample_weight)\u001b[0m\n\u001b[0;32m    439\u001b[0m trees \u001b[38;5;241m=\u001b[39m [\n\u001b[0;32m    440\u001b[0m     \u001b[38;5;28mself\u001b[39m\u001b[38;5;241m.\u001b[39m_make_estimator(append\u001b[38;5;241m=\u001b[39m\u001b[38;5;28;01mFalse\u001b[39;00m, random_state\u001b[38;5;241m=\u001b[39mrandom_state)\n\u001b[0;32m    441\u001b[0m     \u001b[38;5;28;01mfor\u001b[39;00m i \u001b[38;5;129;01min\u001b[39;00m \u001b[38;5;28mrange\u001b[39m(n_more_estimators)\n\u001b[0;32m    442\u001b[0m ]\n\u001b[0;32m    444\u001b[0m \u001b[38;5;66;03m# Parallel loop: we prefer the threading backend as the Cython code\u001b[39;00m\n\u001b[0;32m    445\u001b[0m \u001b[38;5;66;03m# for fitting the trees is internally releasing the Python GIL\u001b[39;00m\n\u001b[0;32m    446\u001b[0m \u001b[38;5;66;03m# making threading more efficient than multiprocessing in\u001b[39;00m\n\u001b[0;32m    447\u001b[0m \u001b[38;5;66;03m# that case. However, for joblib 0.12+ we respect any\u001b[39;00m\n\u001b[0;32m    448\u001b[0m \u001b[38;5;66;03m# parallel_backend contexts set at a higher level,\u001b[39;00m\n\u001b[0;32m    449\u001b[0m \u001b[38;5;66;03m# since correctness does not rely on using threads.\u001b[39;00m\n\u001b[1;32m--> 450\u001b[0m trees \u001b[38;5;241m=\u001b[39m \u001b[43mParallel\u001b[49m\u001b[43m(\u001b[49m\n\u001b[0;32m    451\u001b[0m \u001b[43m    \u001b[49m\u001b[43mn_jobs\u001b[49m\u001b[38;5;241;43m=\u001b[39;49m\u001b[38;5;28;43mself\u001b[39;49m\u001b[38;5;241;43m.\u001b[39;49m\u001b[43mn_jobs\u001b[49m\u001b[43m,\u001b[49m\n\u001b[0;32m    452\u001b[0m \u001b[43m    \u001b[49m\u001b[43mverbose\u001b[49m\u001b[38;5;241;43m=\u001b[39;49m\u001b[38;5;28;43mself\u001b[39;49m\u001b[38;5;241;43m.\u001b[39;49m\u001b[43mverbose\u001b[49m\u001b[43m,\u001b[49m\n\u001b[0;32m    453\u001b[0m \u001b[43m    \u001b[49m\u001b[38;5;241;43m*\u001b[39;49m\u001b[38;5;241;43m*\u001b[39;49m\u001b[43m_joblib_parallel_args\u001b[49m\u001b[43m(\u001b[49m\u001b[43mprefer\u001b[49m\u001b[38;5;241;43m=\u001b[39;49m\u001b[38;5;124;43m\"\u001b[39;49m\u001b[38;5;124;43mthreads\u001b[39;49m\u001b[38;5;124;43m\"\u001b[39;49m\u001b[43m)\u001b[49m\u001b[43m,\u001b[49m\n\u001b[0;32m    454\u001b[0m \u001b[43m\u001b[49m\u001b[43m)\u001b[49m\u001b[43m(\u001b[49m\n\u001b[0;32m    455\u001b[0m \u001b[43m    \u001b[49m\u001b[43mdelayed\u001b[49m\u001b[43m(\u001b[49m\u001b[43m_parallel_build_trees\u001b[49m\u001b[43m)\u001b[49m\u001b[43m(\u001b[49m\n\u001b[0;32m    456\u001b[0m \u001b[43m        \u001b[49m\u001b[43mt\u001b[49m\u001b[43m,\u001b[49m\n\u001b[0;32m    457\u001b[0m \u001b[43m        \u001b[49m\u001b[38;5;28;43mself\u001b[39;49m\u001b[43m,\u001b[49m\n\u001b[0;32m    458\u001b[0m \u001b[43m        \u001b[49m\u001b[43mX\u001b[49m\u001b[43m,\u001b[49m\n\u001b[0;32m    459\u001b[0m \u001b[43m        \u001b[49m\u001b[43my\u001b[49m\u001b[43m,\u001b[49m\n\u001b[0;32m    460\u001b[0m \u001b[43m        \u001b[49m\u001b[43msample_weight\u001b[49m\u001b[43m,\u001b[49m\n\u001b[0;32m    461\u001b[0m \u001b[43m        \u001b[49m\u001b[43mi\u001b[49m\u001b[43m,\u001b[49m\n\u001b[0;32m    462\u001b[0m \u001b[43m        \u001b[49m\u001b[38;5;28;43mlen\u001b[39;49m\u001b[43m(\u001b[49m\u001b[43mtrees\u001b[49m\u001b[43m)\u001b[49m\u001b[43m,\u001b[49m\n\u001b[0;32m    463\u001b[0m \u001b[43m        \u001b[49m\u001b[43mverbose\u001b[49m\u001b[38;5;241;43m=\u001b[39;49m\u001b[38;5;28;43mself\u001b[39;49m\u001b[38;5;241;43m.\u001b[39;49m\u001b[43mverbose\u001b[49m\u001b[43m,\u001b[49m\n\u001b[0;32m    464\u001b[0m \u001b[43m        \u001b[49m\u001b[43mclass_weight\u001b[49m\u001b[38;5;241;43m=\u001b[39;49m\u001b[38;5;28;43mself\u001b[39;49m\u001b[38;5;241;43m.\u001b[39;49m\u001b[43mclass_weight\u001b[49m\u001b[43m,\u001b[49m\n\u001b[0;32m    465\u001b[0m \u001b[43m        \u001b[49m\u001b[43mn_samples_bootstrap\u001b[49m\u001b[38;5;241;43m=\u001b[39;49m\u001b[43mn_samples_bootstrap\u001b[49m\u001b[43m,\u001b[49m\n\u001b[0;32m    466\u001b[0m \u001b[43m    \u001b[49m\u001b[43m)\u001b[49m\n\u001b[0;32m    467\u001b[0m \u001b[43m    \u001b[49m\u001b[38;5;28;43;01mfor\u001b[39;49;00m\u001b[43m \u001b[49m\u001b[43mi\u001b[49m\u001b[43m,\u001b[49m\u001b[43m \u001b[49m\u001b[43mt\u001b[49m\u001b[43m \u001b[49m\u001b[38;5;129;43;01min\u001b[39;49;00m\u001b[43m \u001b[49m\u001b[38;5;28;43menumerate\u001b[39;49m\u001b[43m(\u001b[49m\u001b[43mtrees\u001b[49m\u001b[43m)\u001b[49m\n\u001b[0;32m    468\u001b[0m \u001b[43m\u001b[49m\u001b[43m)\u001b[49m\n\u001b[0;32m    470\u001b[0m \u001b[38;5;66;03m# Collect newly grown trees\u001b[39;00m\n\u001b[0;32m    471\u001b[0m \u001b[38;5;28mself\u001b[39m\u001b[38;5;241m.\u001b[39mestimators_\u001b[38;5;241m.\u001b[39mextend(trees)\n",
      "File \u001b[1;32mc:\\Users\\PC1\\anaconda3\\lib\\site-packages\\joblib\\parallel.py:1046\u001b[0m, in \u001b[0;36mParallel.__call__\u001b[1;34m(self, iterable)\u001b[0m\n\u001b[0;32m   1043\u001b[0m \u001b[38;5;28;01mif\u001b[39;00m \u001b[38;5;28mself\u001b[39m\u001b[38;5;241m.\u001b[39mdispatch_one_batch(iterator):\n\u001b[0;32m   1044\u001b[0m     \u001b[38;5;28mself\u001b[39m\u001b[38;5;241m.\u001b[39m_iterating \u001b[38;5;241m=\u001b[39m \u001b[38;5;28mself\u001b[39m\u001b[38;5;241m.\u001b[39m_original_iterator \u001b[38;5;129;01mis\u001b[39;00m \u001b[38;5;129;01mnot\u001b[39;00m \u001b[38;5;28;01mNone\u001b[39;00m\n\u001b[1;32m-> 1046\u001b[0m \u001b[38;5;28;01mwhile\u001b[39;00m \u001b[38;5;28;43mself\u001b[39;49m\u001b[38;5;241;43m.\u001b[39;49m\u001b[43mdispatch_one_batch\u001b[49m\u001b[43m(\u001b[49m\u001b[43miterator\u001b[49m\u001b[43m)\u001b[49m:\n\u001b[0;32m   1047\u001b[0m     \u001b[38;5;28;01mpass\u001b[39;00m\n\u001b[0;32m   1049\u001b[0m \u001b[38;5;28;01mif\u001b[39;00m pre_dispatch \u001b[38;5;241m==\u001b[39m \u001b[38;5;124m\"\u001b[39m\u001b[38;5;124mall\u001b[39m\u001b[38;5;124m\"\u001b[39m \u001b[38;5;129;01mor\u001b[39;00m n_jobs \u001b[38;5;241m==\u001b[39m \u001b[38;5;241m1\u001b[39m:\n\u001b[0;32m   1050\u001b[0m     \u001b[38;5;66;03m# The iterable was consumed all at once by the above for loop.\u001b[39;00m\n\u001b[0;32m   1051\u001b[0m     \u001b[38;5;66;03m# No need to wait for async callbacks to trigger to\u001b[39;00m\n\u001b[0;32m   1052\u001b[0m     \u001b[38;5;66;03m# consumption.\u001b[39;00m\n",
      "File \u001b[1;32mc:\\Users\\PC1\\anaconda3\\lib\\site-packages\\joblib\\parallel.py:861\u001b[0m, in \u001b[0;36mParallel.dispatch_one_batch\u001b[1;34m(self, iterator)\u001b[0m\n\u001b[0;32m    859\u001b[0m     \u001b[38;5;28;01mreturn\u001b[39;00m \u001b[38;5;28;01mFalse\u001b[39;00m\n\u001b[0;32m    860\u001b[0m \u001b[38;5;28;01melse\u001b[39;00m:\n\u001b[1;32m--> 861\u001b[0m     \u001b[38;5;28;43mself\u001b[39;49m\u001b[38;5;241;43m.\u001b[39;49m\u001b[43m_dispatch\u001b[49m\u001b[43m(\u001b[49m\u001b[43mtasks\u001b[49m\u001b[43m)\u001b[49m\n\u001b[0;32m    862\u001b[0m     \u001b[38;5;28;01mreturn\u001b[39;00m \u001b[38;5;28;01mTrue\u001b[39;00m\n",
      "File \u001b[1;32mc:\\Users\\PC1\\anaconda3\\lib\\site-packages\\joblib\\parallel.py:779\u001b[0m, in \u001b[0;36mParallel._dispatch\u001b[1;34m(self, batch)\u001b[0m\n\u001b[0;32m    777\u001b[0m \u001b[38;5;28;01mwith\u001b[39;00m \u001b[38;5;28mself\u001b[39m\u001b[38;5;241m.\u001b[39m_lock:\n\u001b[0;32m    778\u001b[0m     job_idx \u001b[38;5;241m=\u001b[39m \u001b[38;5;28mlen\u001b[39m(\u001b[38;5;28mself\u001b[39m\u001b[38;5;241m.\u001b[39m_jobs)\n\u001b[1;32m--> 779\u001b[0m     job \u001b[38;5;241m=\u001b[39m \u001b[38;5;28;43mself\u001b[39;49m\u001b[38;5;241;43m.\u001b[39;49m\u001b[43m_backend\u001b[49m\u001b[38;5;241;43m.\u001b[39;49m\u001b[43mapply_async\u001b[49m\u001b[43m(\u001b[49m\u001b[43mbatch\u001b[49m\u001b[43m,\u001b[49m\u001b[43m \u001b[49m\u001b[43mcallback\u001b[49m\u001b[38;5;241;43m=\u001b[39;49m\u001b[43mcb\u001b[49m\u001b[43m)\u001b[49m\n\u001b[0;32m    780\u001b[0m     \u001b[38;5;66;03m# A job can complete so quickly than its callback is\u001b[39;00m\n\u001b[0;32m    781\u001b[0m     \u001b[38;5;66;03m# called before we get here, causing self._jobs to\u001b[39;00m\n\u001b[0;32m    782\u001b[0m     \u001b[38;5;66;03m# grow. To ensure correct results ordering, .insert is\u001b[39;00m\n\u001b[0;32m    783\u001b[0m     \u001b[38;5;66;03m# used (rather than .append) in the following line\u001b[39;00m\n\u001b[0;32m    784\u001b[0m     \u001b[38;5;28mself\u001b[39m\u001b[38;5;241m.\u001b[39m_jobs\u001b[38;5;241m.\u001b[39minsert(job_idx, job)\n",
      "File \u001b[1;32mc:\\Users\\PC1\\anaconda3\\lib\\site-packages\\joblib\\_parallel_backends.py:208\u001b[0m, in \u001b[0;36mSequentialBackend.apply_async\u001b[1;34m(self, func, callback)\u001b[0m\n\u001b[0;32m    206\u001b[0m \u001b[38;5;28;01mdef\u001b[39;00m \u001b[38;5;21mapply_async\u001b[39m(\u001b[38;5;28mself\u001b[39m, func, callback\u001b[38;5;241m=\u001b[39m\u001b[38;5;28;01mNone\u001b[39;00m):\n\u001b[0;32m    207\u001b[0m     \u001b[38;5;124;03m\"\"\"Schedule a func to be run\"\"\"\u001b[39;00m\n\u001b[1;32m--> 208\u001b[0m     result \u001b[38;5;241m=\u001b[39m \u001b[43mImmediateResult\u001b[49m\u001b[43m(\u001b[49m\u001b[43mfunc\u001b[49m\u001b[43m)\u001b[49m\n\u001b[0;32m    209\u001b[0m     \u001b[38;5;28;01mif\u001b[39;00m callback:\n\u001b[0;32m    210\u001b[0m         callback(result)\n",
      "File \u001b[1;32mc:\\Users\\PC1\\anaconda3\\lib\\site-packages\\joblib\\_parallel_backends.py:572\u001b[0m, in \u001b[0;36mImmediateResult.__init__\u001b[1;34m(self, batch)\u001b[0m\n\u001b[0;32m    569\u001b[0m \u001b[38;5;28;01mdef\u001b[39;00m \u001b[38;5;21m__init__\u001b[39m(\u001b[38;5;28mself\u001b[39m, batch):\n\u001b[0;32m    570\u001b[0m     \u001b[38;5;66;03m# Don't delay the application, to avoid keeping the input\u001b[39;00m\n\u001b[0;32m    571\u001b[0m     \u001b[38;5;66;03m# arguments in memory\u001b[39;00m\n\u001b[1;32m--> 572\u001b[0m     \u001b[38;5;28mself\u001b[39m\u001b[38;5;241m.\u001b[39mresults \u001b[38;5;241m=\u001b[39m \u001b[43mbatch\u001b[49m\u001b[43m(\u001b[49m\u001b[43m)\u001b[49m\n",
      "File \u001b[1;32mc:\\Users\\PC1\\anaconda3\\lib\\site-packages\\joblib\\parallel.py:262\u001b[0m, in \u001b[0;36mBatchedCalls.__call__\u001b[1;34m(self)\u001b[0m\n\u001b[0;32m    258\u001b[0m \u001b[38;5;28;01mdef\u001b[39;00m \u001b[38;5;21m__call__\u001b[39m(\u001b[38;5;28mself\u001b[39m):\n\u001b[0;32m    259\u001b[0m     \u001b[38;5;66;03m# Set the default nested backend to self._backend but do not set the\u001b[39;00m\n\u001b[0;32m    260\u001b[0m     \u001b[38;5;66;03m# change the default number of processes to -1\u001b[39;00m\n\u001b[0;32m    261\u001b[0m     \u001b[38;5;28;01mwith\u001b[39;00m parallel_backend(\u001b[38;5;28mself\u001b[39m\u001b[38;5;241m.\u001b[39m_backend, n_jobs\u001b[38;5;241m=\u001b[39m\u001b[38;5;28mself\u001b[39m\u001b[38;5;241m.\u001b[39m_n_jobs):\n\u001b[1;32m--> 262\u001b[0m         \u001b[38;5;28;01mreturn\u001b[39;00m [func(\u001b[38;5;241m*\u001b[39margs, \u001b[38;5;241m*\u001b[39m\u001b[38;5;241m*\u001b[39mkwargs)\n\u001b[0;32m    263\u001b[0m                 \u001b[38;5;28;01mfor\u001b[39;00m func, args, kwargs \u001b[38;5;129;01min\u001b[39;00m \u001b[38;5;28mself\u001b[39m\u001b[38;5;241m.\u001b[39mitems]\n",
      "File \u001b[1;32mc:\\Users\\PC1\\anaconda3\\lib\\site-packages\\joblib\\parallel.py:262\u001b[0m, in \u001b[0;36m<listcomp>\u001b[1;34m(.0)\u001b[0m\n\u001b[0;32m    258\u001b[0m \u001b[38;5;28;01mdef\u001b[39;00m \u001b[38;5;21m__call__\u001b[39m(\u001b[38;5;28mself\u001b[39m):\n\u001b[0;32m    259\u001b[0m     \u001b[38;5;66;03m# Set the default nested backend to self._backend but do not set the\u001b[39;00m\n\u001b[0;32m    260\u001b[0m     \u001b[38;5;66;03m# change the default number of processes to -1\u001b[39;00m\n\u001b[0;32m    261\u001b[0m     \u001b[38;5;28;01mwith\u001b[39;00m parallel_backend(\u001b[38;5;28mself\u001b[39m\u001b[38;5;241m.\u001b[39m_backend, n_jobs\u001b[38;5;241m=\u001b[39m\u001b[38;5;28mself\u001b[39m\u001b[38;5;241m.\u001b[39m_n_jobs):\n\u001b[1;32m--> 262\u001b[0m         \u001b[38;5;28;01mreturn\u001b[39;00m [func(\u001b[38;5;241m*\u001b[39margs, \u001b[38;5;241m*\u001b[39m\u001b[38;5;241m*\u001b[39mkwargs)\n\u001b[0;32m    263\u001b[0m                 \u001b[38;5;28;01mfor\u001b[39;00m func, args, kwargs \u001b[38;5;129;01min\u001b[39;00m \u001b[38;5;28mself\u001b[39m\u001b[38;5;241m.\u001b[39mitems]\n",
      "File \u001b[1;32mc:\\Users\\PC1\\anaconda3\\lib\\site-packages\\sklearn\\utils\\fixes.py:216\u001b[0m, in \u001b[0;36m_FuncWrapper.__call__\u001b[1;34m(self, *args, **kwargs)\u001b[0m\n\u001b[0;32m    214\u001b[0m \u001b[38;5;28;01mdef\u001b[39;00m \u001b[38;5;21m__call__\u001b[39m(\u001b[38;5;28mself\u001b[39m, \u001b[38;5;241m*\u001b[39margs, \u001b[38;5;241m*\u001b[39m\u001b[38;5;241m*\u001b[39mkwargs):\n\u001b[0;32m    215\u001b[0m     \u001b[38;5;28;01mwith\u001b[39;00m config_context(\u001b[38;5;241m*\u001b[39m\u001b[38;5;241m*\u001b[39m\u001b[38;5;28mself\u001b[39m\u001b[38;5;241m.\u001b[39mconfig):\n\u001b[1;32m--> 216\u001b[0m         \u001b[38;5;28;01mreturn\u001b[39;00m \u001b[38;5;28mself\u001b[39m\u001b[38;5;241m.\u001b[39mfunction(\u001b[38;5;241m*\u001b[39margs, \u001b[38;5;241m*\u001b[39m\u001b[38;5;241m*\u001b[39mkwargs)\n",
      "File \u001b[1;32mc:\\Users\\PC1\\anaconda3\\lib\\site-packages\\sklearn\\ensemble\\_forest.py:185\u001b[0m, in \u001b[0;36m_parallel_build_trees\u001b[1;34m(tree, forest, X, y, sample_weight, tree_idx, n_trees, verbose, class_weight, n_samples_bootstrap)\u001b[0m\n\u001b[0;32m    182\u001b[0m     \u001b[38;5;28;01melif\u001b[39;00m class_weight \u001b[38;5;241m==\u001b[39m \u001b[38;5;124m\"\u001b[39m\u001b[38;5;124mbalanced_subsample\u001b[39m\u001b[38;5;124m\"\u001b[39m:\n\u001b[0;32m    183\u001b[0m         curr_sample_weight \u001b[38;5;241m*\u001b[39m\u001b[38;5;241m=\u001b[39m compute_sample_weight(\u001b[38;5;124m\"\u001b[39m\u001b[38;5;124mbalanced\u001b[39m\u001b[38;5;124m\"\u001b[39m, y, indices\u001b[38;5;241m=\u001b[39mindices)\n\u001b[1;32m--> 185\u001b[0m     \u001b[43mtree\u001b[49m\u001b[38;5;241;43m.\u001b[39;49m\u001b[43mfit\u001b[49m\u001b[43m(\u001b[49m\u001b[43mX\u001b[49m\u001b[43m,\u001b[49m\u001b[43m \u001b[49m\u001b[43my\u001b[49m\u001b[43m,\u001b[49m\u001b[43m \u001b[49m\u001b[43msample_weight\u001b[49m\u001b[38;5;241;43m=\u001b[39;49m\u001b[43mcurr_sample_weight\u001b[49m\u001b[43m,\u001b[49m\u001b[43m \u001b[49m\u001b[43mcheck_input\u001b[49m\u001b[38;5;241;43m=\u001b[39;49m\u001b[38;5;28;43;01mFalse\u001b[39;49;00m\u001b[43m)\u001b[49m\n\u001b[0;32m    186\u001b[0m \u001b[38;5;28;01melse\u001b[39;00m:\n\u001b[0;32m    187\u001b[0m     tree\u001b[38;5;241m.\u001b[39mfit(X, y, sample_weight\u001b[38;5;241m=\u001b[39msample_weight, check_input\u001b[38;5;241m=\u001b[39m\u001b[38;5;28;01mFalse\u001b[39;00m)\n",
      "File \u001b[1;32mc:\\Users\\PC1\\anaconda3\\lib\\site-packages\\sklearn\\tree\\_classes.py:1315\u001b[0m, in \u001b[0;36mDecisionTreeRegressor.fit\u001b[1;34m(self, X, y, sample_weight, check_input, X_idx_sorted)\u001b[0m\n\u001b[0;32m   1278\u001b[0m \u001b[38;5;28;01mdef\u001b[39;00m \u001b[38;5;21mfit\u001b[39m(\n\u001b[0;32m   1279\u001b[0m     \u001b[38;5;28mself\u001b[39m, X, y, sample_weight\u001b[38;5;241m=\u001b[39m\u001b[38;5;28;01mNone\u001b[39;00m, check_input\u001b[38;5;241m=\u001b[39m\u001b[38;5;28;01mTrue\u001b[39;00m, X_idx_sorted\u001b[38;5;241m=\u001b[39m\u001b[38;5;124m\"\u001b[39m\u001b[38;5;124mdeprecated\u001b[39m\u001b[38;5;124m\"\u001b[39m\n\u001b[0;32m   1280\u001b[0m ):\n\u001b[0;32m   1281\u001b[0m     \u001b[38;5;124;03m\"\"\"Build a decision tree regressor from the training set (X, y).\u001b[39;00m\n\u001b[0;32m   1282\u001b[0m \n\u001b[0;32m   1283\u001b[0m \u001b[38;5;124;03m    Parameters\u001b[39;00m\n\u001b[1;32m   (...)\u001b[0m\n\u001b[0;32m   1312\u001b[0m \u001b[38;5;124;03m        Fitted estimator.\u001b[39;00m\n\u001b[0;32m   1313\u001b[0m \u001b[38;5;124;03m    \"\"\"\u001b[39;00m\n\u001b[1;32m-> 1315\u001b[0m     \u001b[38;5;28;43msuper\u001b[39;49m\u001b[43m(\u001b[49m\u001b[43m)\u001b[49m\u001b[38;5;241;43m.\u001b[39;49m\u001b[43mfit\u001b[49m\u001b[43m(\u001b[49m\n\u001b[0;32m   1316\u001b[0m \u001b[43m        \u001b[49m\u001b[43mX\u001b[49m\u001b[43m,\u001b[49m\n\u001b[0;32m   1317\u001b[0m \u001b[43m        \u001b[49m\u001b[43my\u001b[49m\u001b[43m,\u001b[49m\n\u001b[0;32m   1318\u001b[0m \u001b[43m        \u001b[49m\u001b[43msample_weight\u001b[49m\u001b[38;5;241;43m=\u001b[39;49m\u001b[43msample_weight\u001b[49m\u001b[43m,\u001b[49m\n\u001b[0;32m   1319\u001b[0m \u001b[43m        \u001b[49m\u001b[43mcheck_input\u001b[49m\u001b[38;5;241;43m=\u001b[39;49m\u001b[43mcheck_input\u001b[49m\u001b[43m,\u001b[49m\n\u001b[0;32m   1320\u001b[0m \u001b[43m        \u001b[49m\u001b[43mX_idx_sorted\u001b[49m\u001b[38;5;241;43m=\u001b[39;49m\u001b[43mX_idx_sorted\u001b[49m\u001b[43m,\u001b[49m\n\u001b[0;32m   1321\u001b[0m \u001b[43m    \u001b[49m\u001b[43m)\u001b[49m\n\u001b[0;32m   1322\u001b[0m     \u001b[38;5;28;01mreturn\u001b[39;00m \u001b[38;5;28mself\u001b[39m\n",
      "File \u001b[1;32mc:\\Users\\PC1\\anaconda3\\lib\\site-packages\\sklearn\\tree\\_classes.py:420\u001b[0m, in \u001b[0;36mBaseDecisionTree.fit\u001b[1;34m(self, X, y, sample_weight, check_input, X_idx_sorted)\u001b[0m\n\u001b[0;32m    409\u001b[0m \u001b[38;5;28;01melse\u001b[39;00m:\n\u001b[0;32m    410\u001b[0m     builder \u001b[38;5;241m=\u001b[39m BestFirstTreeBuilder(\n\u001b[0;32m    411\u001b[0m         splitter,\n\u001b[0;32m    412\u001b[0m         min_samples_split,\n\u001b[1;32m   (...)\u001b[0m\n\u001b[0;32m    417\u001b[0m         \u001b[38;5;28mself\u001b[39m\u001b[38;5;241m.\u001b[39mmin_impurity_decrease,\n\u001b[0;32m    418\u001b[0m     )\n\u001b[1;32m--> 420\u001b[0m \u001b[43mbuilder\u001b[49m\u001b[38;5;241;43m.\u001b[39;49m\u001b[43mbuild\u001b[49m\u001b[43m(\u001b[49m\u001b[38;5;28;43mself\u001b[39;49m\u001b[38;5;241;43m.\u001b[39;49m\u001b[43mtree_\u001b[49m\u001b[43m,\u001b[49m\u001b[43m \u001b[49m\u001b[43mX\u001b[49m\u001b[43m,\u001b[49m\u001b[43m \u001b[49m\u001b[43my\u001b[49m\u001b[43m,\u001b[49m\u001b[43m \u001b[49m\u001b[43msample_weight\u001b[49m\u001b[43m)\u001b[49m\n\u001b[0;32m    422\u001b[0m \u001b[38;5;28;01mif\u001b[39;00m \u001b[38;5;28mself\u001b[39m\u001b[38;5;241m.\u001b[39mn_outputs_ \u001b[38;5;241m==\u001b[39m \u001b[38;5;241m1\u001b[39m \u001b[38;5;129;01mand\u001b[39;00m is_classifier(\u001b[38;5;28mself\u001b[39m):\n\u001b[0;32m    423\u001b[0m     \u001b[38;5;28mself\u001b[39m\u001b[38;5;241m.\u001b[39mn_classes_ \u001b[38;5;241m=\u001b[39m \u001b[38;5;28mself\u001b[39m\u001b[38;5;241m.\u001b[39mn_classes_[\u001b[38;5;241m0\u001b[39m]\n",
      "\u001b[1;31mKeyboardInterrupt\u001b[0m: "
     ]
    }
   ],
   "source": [
    "for i in range(500):\n",
    "    Xtrain,Xtest,Ytrain,Ytest = train_test_split(X,y,test_size=0.2,random_state=i)\n",
    "    rfc = RandomForestRegressor(random_state=60)\n",
    "    CV_score = cross_val_score(rfc, Xtrain, Ytrain, cv=5).mean()\n",
    "    regressor = rfc.fit(Xtrain, Ytrain)\n",
    "    score_test = regressor.score(Xtest,Ytest)\n",
    "#     if CV < CV_score and test < score_test:\n",
    "#         CV = CV_score\n",
    "#         test = score_test\n",
    "    if CV_score>0.76 and score_test>0.76:\n",
    "        print(\"5cv:\",CV_score,\"TEST:\",score_test,\"random_state:\",i)"
   ]
  },
  {
   "cell_type": "code",
   "execution_count": 50,
   "id": "3a40d21c",
   "metadata": {
    "ExecuteTime": {
     "end_time": "2023-03-28T12:05:34.185108Z",
     "start_time": "2023-03-28T12:05:33.466162Z"
    }
   },
   "outputs": [
    {
     "name": "stdout",
     "output_type": "stream",
     "text": [
      "5cv: 0.7617132008074494 TEST: 0.8258982260580247\n",
      "rmse_5CV 15.513545173744722\n"
     ]
    }
   ],
   "source": [
    "Xtrain,Xtest,Ytrain,Ytest = train_test_split(X,y,test_size=0.2,random_state=28)\n",
    "\n",
    "rfc = RandomForestRegressor(random_state=60)\n",
    "CV_score = cross_val_score(rfc, Xtrain, Ytrain, cv=5).mean()\n",
    "regressor = rfc.fit(Xtrain, Ytrain)\n",
    "CV_predictions = cross_val_predict(rfc, Xtrain,Ytrain,cv=5)\n",
    "rmse = np.sqrt(mean_squared_error(Ytrain,CV_predictions))\n",
    "\n",
    "score_test = regressor.score(Xtest,Ytest)\n",
    "print(\"5cv:\",CV_score,\"TEST:\",score_test)\n",
    "print(\"rmse_5CV\",rmse)"
   ]
  },
  {
   "cell_type": "code",
   "execution_count": 51,
   "id": "c4133b23",
   "metadata": {
    "ExecuteTime": {
     "end_time": "2023-03-28T12:11:30.273704Z",
     "start_time": "2023-03-28T12:05:37.687916Z"
    }
   },
   "outputs": [
    {
     "name": "stdout",
     "output_type": "stream",
     "text": [
      "Best_5cv score：0.7691301478966664 random_5cv:147\n",
      "Best_5cv score：0.7694243280528342 n_est_5cv:104\n",
      "Best_5cv score：0.7698454059634405 max_depth_5cv:37\n",
      "Best_5cv score：0.7759940322027663 max_features_5cv:64\n"
     ]
    }
   ],
   "source": [
    "score_5cv_all = []\n",
    "for i in range(0, 200, 1):\n",
    "    rfc =RandomForestRegressor(random_state=i)\n",
    "    score_5cv =cross_val_score(rfc, Xtrain, Ytrain, cv=5).mean()\n",
    "    score_5cv_all.append(score_5cv)\n",
    "    pass\n",
    "\n",
    "score_max_5cv = max(score_5cv_all)\n",
    "random_state_5cv = range(0, 200)[score_5cv_all.index(max(score_5cv_all))]\n",
    "\n",
    "print(\"Best_5cv score：{}\".format(score_max_5cv),\n",
    "      \"random_5cv:{}\".format(random_state_5cv))\n",
    "\n",
    "\n",
    "score_5cv_all = []\n",
    "for i in range(1, 400, 1):\n",
    "    rfc = RandomForestRegressor(n_estimators=i\n",
    "                                , random_state=random_state_5cv)\n",
    "    score_5cv = cross_val_score(rfc, Xtrain, Ytrain, cv=5).mean()\n",
    "    score_5cv_all.append(score_5cv)\n",
    "    pass\n",
    "\n",
    "score_max_5cv = max(score_5cv_all)\n",
    "n_est_5cv = range(1,400)[score_5cv_all.index(score_max_5cv)]\n",
    "\n",
    "print(\"Best_5cv score：{}\".format(score_max_5cv),\n",
    "      \"n_est_5cv:{}\".format(n_est_5cv))\n",
    "\n",
    "\n",
    "score_5cv_all = []\n",
    "for i in range(1, 300, 1):\n",
    "    rfc = RandomForestRegressor(n_estimators=n_est_5cv\n",
    "                                ,random_state=random_state_5cv\n",
    "                                ,max_depth=i)\n",
    "    score_5cv = cross_val_score(rfc, Xtrain, Ytrain, cv=5).mean()\n",
    "    score_5cv_all.append(score_5cv)\n",
    "    pass\n",
    "\n",
    "score_max_5cv = max(score_5cv_all)\n",
    "max_depth_5cv = range(1,300)[score_5cv_all.index(score_max_5cv)]\n",
    "\n",
    "print(\"Best_5cv score：{}\".format(score_max_5cv),\n",
    "      \"max_depth_5cv:{}\".format(max_depth_5cv))\n",
    "\n",
    "\n",
    "score_5cv_all = []\n",
    "for i in range(1,X.shape[1]+1):\n",
    "    rfc = RandomForestRegressor(n_estimators=n_est_5cv\n",
    "                                ,random_state=random_state_5cv\n",
    "                                ,max_depth=max_depth_5cv\n",
    "                                ,max_features=i)\n",
    "    score_5cv = cross_val_score(rfc, Xtrain, Ytrain, cv=5).mean()\n",
    "    score_5cv_all.append(score_5cv)\n",
    "    pass\n",
    "\n",
    "score_max_5cv = max(score_5cv_all)\n",
    "max_features_5cv = range(1, X.shape[1]+1)[score_5cv_all.index(score_max_5cv)]\n",
    "\n",
    "print(\"Best_5cv score：{}\".format(score_max_5cv),\n",
    "      \"max_features_5cv:{}\".format(max_features_5cv))"
   ]
  },
  {
   "cell_type": "code",
   "execution_count": 52,
   "id": "d1452552",
   "metadata": {},
   "outputs": [
    {
     "name": "stdout",
     "output_type": "stream",
     "text": [
      "r2_5cv: 0.7759940322027663 rmse_5CV 15.039248638171767\n",
      "r2_test: 0.8195731105192405 rmse_test 13.337415704496912\n"
     ]
    }
   ],
   "source": [
    "rfc = RandomForestRegressor(n_estimators=n_est_5cv\n",
    "                            ,random_state=random_state_5cv\n",
    "                            ,max_depth=max_depth_5cv\n",
    "                            ,max_features=max_features_5cv)\n",
    "\n",
    "CV_score = cross_val_score(rfc, Xtrain, Ytrain, cv=5).mean()\n",
    "CV_predictions = cross_val_predict(rfc, Xtrain,Ytrain,cv=5)\n",
    "rmse = np.sqrt(mean_squared_error(Ytrain,CV_predictions))\n",
    "print(\"r2_5cv:\",CV_score,\"rmse_5CV\",rmse)\n",
    "\n",
    "regressor = rfc.fit(Xtrain, Ytrain)\n",
    "test_predictions = regressor.predict(Xtest)\n",
    "score_test = regressor.score(Xtest,Ytest)\n",
    "rmse = np.sqrt(mean_squared_error(Ytest,test_predictions))\n",
    "print(\"r2_test:\",score_test,\"rmse_test\",rmse)"
   ]
  },
  {
   "cell_type": "code",
   "execution_count": 53,
   "id": "7931c516",
   "metadata": {},
   "outputs": [
    {
     "name": "stdout",
     "output_type": "stream",
     "text": [
      "Original Model Score: 0.8195731105192405\n",
      "Y Scrambling Average Score: -0.1977061461504869\n",
      "Score Difference: 1.0172792566697275\n"
     ]
    }
   ],
   "source": [
    "# 执行Y-Scrambling\n",
    "perform_y_scrambling(rfc, Xtrain, Xtest, Ytrain, Ytest, num_iterations=10)"
   ]
  },
  {
   "cell_type": "markdown",
   "id": "fdfdb8f4",
   "metadata": {},
   "source": [
    "# XGBoost"
   ]
  },
  {
   "cell_type": "code",
   "execution_count": 54,
   "id": "3f1ff9db",
   "metadata": {
    "ExecuteTime": {
     "end_time": "2023-03-28T11:37:51.813450Z",
     "start_time": "2023-03-28T11:37:51.443471Z"
    }
   },
   "outputs": [
    {
     "name": "stdout",
     "output_type": "stream",
     "text": [
      "5cv: 0.7837497580879802 TEST: 0.8334361302582743\n"
     ]
    }
   ],
   "source": [
    "Xtrain,Xtest,Ytrain,Ytest = train_test_split(X,y,test_size=0.2,random_state=60)\n",
    "XGB = XGBR(random_state=60)\n",
    "CV_score = cross_val_score(XGB, Xtrain, Ytrain, cv=5).mean()\n",
    "regressor = XGB.fit(Xtrain, Ytrain)\n",
    "score_test = regressor.score(Xtest,Ytest)\n",
    "print(\"5cv:\",CV_score,\"TEST:\",score_test)"
   ]
  },
  {
   "cell_type": "code",
   "execution_count": 55,
   "id": "479bf9ba",
   "metadata": {
    "ExecuteTime": {
     "end_time": "2023-03-28T11:41:21.718030Z",
     "start_time": "2023-03-28T11:38:20.556657Z"
    }
   },
   "outputs": [
    {
     "name": "stdout",
     "output_type": "stream",
     "text": [
      "5cv: 0.8153910675056721 TEST: 0.8032773294088013 random_state: 80\n",
      "5cv: 0.8026573856648401 TEST: 0.8136876611493065 random_state: 89\n",
      "5cv: 0.8012860981959211 TEST: 0.8253207291656163 random_state: 231\n",
      "5cv: 0.8007017001800862 TEST: 0.8007699197382421 random_state: 258\n",
      "5cv: 0.8025533771935007 TEST: 0.8361167864571495 random_state: 295\n",
      "5cv: 0.8028324357694894 TEST: 0.819946770392592 random_state: 415\n",
      "5cv: 0.8056434978148967 TEST: 0.8189091372397921 random_state: 420\n",
      "5cv: 0.80158551984947 TEST: 0.8128405166452626 random_state: 434\n",
      "5cv: 0.8006059276550104 TEST: 0.8330559057818929 random_state: 442\n",
      "5cv: 0.8007112769300783 TEST: 0.8097953602804931 random_state: 457\n",
      "5cv: 0.8009335835494602 TEST: 0.8018041867341114 random_state: 470\n"
     ]
    }
   ],
   "source": [
    "for i in range(500):\n",
    "    Xtrain,Xtest,Ytrain,Ytest = train_test_split(X,y,test_size=0.2,random_state=i)\n",
    "    XGB = XGBR(random_state=60)\n",
    "    CV_score = cross_val_score(XGB, Xtrain, Ytrain, cv=5).mean()\n",
    "    regressor = XGB.fit(Xtrain, Ytrain)\n",
    "    score_test = regressor.score(Xtest,Ytest)\n",
    "#     if CV < CV_score and test < score_test:\n",
    "#         CV = CV_score\n",
    "#         test = score_test\n",
    "    if CV_score>0.8 and score_test>0.8:\n",
    "        print(\"5cv:\",CV_score,\"TEST:\",score_test,\"random_state:\",i)"
   ]
  },
  {
   "cell_type": "code",
   "execution_count": 56,
   "id": "e1e177e8",
   "metadata": {
    "ExecuteTime": {
     "end_time": "2023-03-28T12:29:01.388646Z",
     "start_time": "2023-03-28T12:29:01.044568Z"
    }
   },
   "outputs": [
    {
     "name": "stdout",
     "output_type": "stream",
     "text": [
      "5cv: 0.8025533771935007 TEST: 0.8361167864571495\n"
     ]
    }
   ],
   "source": [
    "Xtrain,Xtest,Ytrain,Ytest = train_test_split(X,y,test_size=0.2,random_state=295)\n",
    "\n",
    "XGB = XGBR(random_state=60)\n",
    "CV_score = cross_val_score(XGB, Xtrain, Ytrain, cv=5).mean()\n",
    "regressor = XGB.fit(Xtrain, Ytrain)\n",
    "score_test = regressor.score(Xtest,Ytest)\n",
    "print(\"5cv:\",CV_score,\"TEST:\",score_test)"
   ]
  },
  {
   "cell_type": "code",
   "execution_count": 57,
   "id": "12721a82",
   "metadata": {
    "ExecuteTime": {
     "end_time": "2023-03-28T12:35:22.504662Z",
     "start_time": "2023-03-28T12:29:04.597965Z"
    }
   },
   "outputs": [
    {
     "name": "stdout",
     "output_type": "stream",
     "text": [
      "Best_5cv score：0.8025533771935007 random_state_5cv:0\n",
      "Best_5cv score：0.8102184166089602 n_lr_5cv:0.45\n",
      "Best_5cv score：0.8221263748978883 n_est_5cv:306\n",
      "Best_5cv score：0.8221263748978883 max_depth_5cv:6\n",
      "Best_5cv score：0.8253411940834257 max_gamma_5cv:0.15000000000000002\n",
      "Best_5cv score：0.825672539889554 max_alpha_5cv:0.05\n"
     ]
    }
   ],
   "source": [
    "score_5cv_all = []\n",
    "for i in range(0, 200, 1):\n",
    "    XGB =XGBR(random_state=i)\n",
    "    score_5cv =cross_val_score(XGB, Xtrain, Ytrain, cv=5).mean()\n",
    "    score_5cv_all.append(score_5cv)\n",
    "    pass\n",
    "score_max_5cv = max(score_5cv_all)\n",
    "random_state_5cv = range(0, 200)[score_5cv_all.index(max(score_5cv_all))]\n",
    "\n",
    "print(\"Best_5cv score：{}\".format(score_max_5cv),\n",
    "      \"random_state_5cv:{}\".format(random_state_5cv))\n",
    "\n",
    "\n",
    "score_5cv_all = []\n",
    "for i in np.arange(0.01, 0.5, 0.01):\n",
    "    XGB = XGBR(learning_rate=i\n",
    "              ,random_state=random_state_5cv)\n",
    "    score_5cv = cross_val_score(XGB, Xtrain, Ytrain, cv=5).mean()\n",
    "    score_5cv_all.append(score_5cv)\n",
    "    pass\n",
    "score_max_5cv = max(score_5cv_all)\n",
    "n_lr_5cv = np.arange(0.01,0.5,0.01)[score_5cv_all.index(score_max_5cv)]\n",
    "\n",
    "print(\"Best_5cv score：{}\".format(score_max_5cv),\n",
    "      \"n_lr_5cv:{}\".format(n_lr_5cv))\n",
    "\n",
    "\n",
    "score_5cv_all = []\n",
    "for i in range(1, 400, 1):\n",
    "    XGB = XGBR(n_estimators=i\n",
    "               ,learning_rate=n_lr_5cv\n",
    "               ,random_state=random_state_5cv)\n",
    "    score_5cv = cross_val_score(XGB, Xtrain, Ytrain, cv=5).mean()\n",
    "    score_5cv_all.append(score_5cv)\n",
    "    pass\n",
    "score_max_5cv = max(score_5cv_all)\n",
    "n_est_5cv = range(1,400)[score_5cv_all.index(score_max_5cv)]\n",
    "\n",
    "print(\"Best_5cv score：{}\".format(score_max_5cv),\n",
    "      \"n_est_5cv:{}\".format(n_est_5cv))\n",
    "\n",
    "\n",
    "score_5cv_all = []\n",
    "for i in range(1, 300, 1):\n",
    "    XGB = XGBR(n_estimators=n_est_5cv\n",
    "               ,learning_rate=n_lr_5cv\n",
    "               ,random_state=random_state_5cv\n",
    "               ,max_depth=i)\n",
    "    score_5cv = cross_val_score(XGB, Xtrain, Ytrain, cv=5).mean()\n",
    "    score_5cv_all.append(score_5cv)\n",
    "    pass\n",
    "score_max_5cv = max(score_5cv_all)\n",
    "max_depth_5cv = range(1,300)[score_5cv_all.index(score_max_5cv)]\n",
    "\n",
    "print(\"Best_5cv score：{}\".format(score_max_5cv),\n",
    "      \"max_depth_5cv:{}\".format(max_depth_5cv))\n",
    "\n",
    "\n",
    "score_5cv_all = []\n",
    "for i in np.arange(0,5,0.05):\n",
    "    XGB = XGBR(n_estimators=n_est_5cv\n",
    "               ,learning_rate=n_lr_5cv\n",
    "               ,random_state=random_state_5cv\n",
    "               ,max_depth=max_depth_5cv\n",
    "               ,gamma=i)\n",
    "    score_5cv = cross_val_score(XGB, Xtrain, Ytrain, cv=5).mean()\n",
    "    score_5cv_all.append(score_5cv)\n",
    "    pass\n",
    "score_max_5cv = max(score_5cv_all)\n",
    "max_gamma_5cv =  np.arange(0,5,0.05)[score_5cv_all.index(score_max_5cv)]\n",
    "print(\"Best_5cv score：{}\".format(score_max_5cv),\n",
    "      \"max_gamma_5cv:{}\".format(max_gamma_5cv))\n",
    "\n",
    "\n",
    "score_5cv_all = []\n",
    "for i in np.arange(0,5,0.05):\n",
    "    XGB = XGBR(n_estimators=n_est_5cv,\n",
    "               learning_rate=n_lr_5cv\n",
    "               ,random_state=random_state_5cv\n",
    "               ,max_depth=max_depth_5cv\n",
    "               ,gamma=max_gamma_5cv \n",
    "               ,alpha=i)\n",
    "    score_5cv = cross_val_score(XGB, Xtrain, Ytrain, cv=5).mean()\n",
    "    score_5cv_all.append(score_5cv)\n",
    "    pass\n",
    "score_max_5cv = max(score_5cv_all)\n",
    "max_alpha_5cv =  np.arange(0,5,0.05)[score_5cv_all.index(score_max_5cv)]\n",
    "\n",
    "print(\"Best_5cv score：{}\".format(score_max_5cv),\n",
    "      \"max_alpha_5cv:{}\".format(max_alpha_5cv))"
   ]
  },
  {
   "cell_type": "code",
   "execution_count": 58,
   "id": "a887e1e1",
   "metadata": {
    "ExecuteTime": {
     "end_time": "2023-03-22T07:35:33.814953Z",
     "start_time": "2023-03-22T07:35:33.079655Z"
    }
   },
   "outputs": [
    {
     "name": "stdout",
     "output_type": "stream",
     "text": [
      "r2_5cv: 0.825672539889554 rmse_5CV 13.42224788228552\n",
      "r2_test: 0.8458090544066695 rmse_test 11.742712096216213\n"
     ]
    }
   ],
   "source": [
    "XGB = XGBR(learning_rate=n_lr_5cv\n",
    "           ,n_estimators=n_est_5cv\n",
    "           ,random_state=random_state_5cv\n",
    "           ,max_depth=max_depth_5cv\n",
    "           ,gamma =max_gamma_5cv\n",
    "           ,alpha = max_alpha_5cv)\n",
    "\n",
    "CV_score = cross_val_score(XGB, Xtrain, Ytrain, cv=5).mean()\n",
    "CV_predictions = cross_val_predict(XGB, Xtrain, Ytrain, cv=5)\n",
    "rmse = np.sqrt(mean_squared_error(Ytrain,CV_predictions))\n",
    "print(\"r2_5cv:\",CV_score,\"rmse_5CV\",rmse)\n",
    "\n",
    "regressor = XGB.fit(Xtrain, Ytrain)\n",
    "train_predictions = regressor.predict(Xtrain)\n",
    "test_predictions = regressor.predict(Xtest)\n",
    "score_test = regressor.score(Xtest,Ytest)\n",
    "rmse = np.sqrt(mean_squared_error(Ytest,test_predictions))\n",
    "print(\"r2_test:\",score_test,\"rmse_test\",rmse)"
   ]
  },
  {
   "cell_type": "code",
   "execution_count": 59,
   "id": "8e03ce66",
   "metadata": {},
   "outputs": [
    {
     "name": "stdout",
     "output_type": "stream",
     "text": [
      "Original Model Score: 0.8458090544066695\n",
      "Y Scrambling Average Score: -0.8511195698144913\n",
      "Score Difference: 1.6969286242211608\n"
     ]
    }
   ],
   "source": [
    "# 执行Y-Scrambling\n",
    "perform_y_scrambling(XGB, Xtrain, Xtest, Ytrain, Ytest, num_iterations=10)"
   ]
  },
  {
   "cell_type": "markdown",
   "id": "7d20e84e",
   "metadata": {},
   "source": [
    "# Explainable Boosting Machine（EBM）"
   ]
  },
  {
   "cell_type": "code",
   "execution_count": 60,
   "id": "4f35ba37",
   "metadata": {
    "ExecuteTime": {
     "end_time": "2023-04-12T14:45:42.503323Z",
     "start_time": "2023-04-12T14:42:35.776029Z"
    }
   },
   "outputs": [
    {
     "name": "stdout",
     "output_type": "stream",
     "text": [
      "5cv: 0.6124718650463287 TEST: 0.6308991760367249\n"
     ]
    }
   ],
   "source": [
    "Xtrain,Xtest,Ytrain,Ytest = train_test_split(X,y,test_size=0.2,random_state=12)\n",
    "ebr = ExplainableBoostingRegressor(random_state=6)\n",
    "CV_score = cross_val_score(ebr, Xtrain, Ytrain, cv=5).mean()\n",
    "regressor = ebr.fit(Xtrain, Ytrain)\n",
    "score_test = regressor.score(Xtest,Ytest)\n",
    "print(\"5cv:\",CV_score,\"TEST:\",score_test)"
   ]
  },
  {
   "cell_type": "code",
   "execution_count": 62,
   "id": "022b213b",
   "metadata": {
    "ExecuteTime": {
     "end_time": "2023-04-04T12:24:34.790840Z",
     "start_time": "2023-04-04T12:12:23.971412Z"
    }
   },
   "outputs": [
    {
     "name": "stdout",
     "output_type": "stream",
     "text": [
      "5cv: 0.634317304976675 TEST: 0.6740435412553222 random_state: 5\n",
      "5cv: 0.6374500184064864 TEST: 0.6456899193763934 random_state: 8\n",
      "5cv: 0.631532548177364 TEST: 0.674037549110335 random_state: 9\n",
      "5cv: 0.6360429577459036 TEST: 0.6613000029089929 random_state: 13\n",
      "5cv: 0.6364666695738812 TEST: 0.6337277951041937 random_state: 14\n",
      "5cv: 0.6334030906752446 TEST: 0.6634280639245795 random_state: 21\n",
      "5cv: 0.6547397923340574 TEST: 0.6313180758365271 random_state: 22\n",
      "5cv: 0.6361223581584087 TEST: 0.6691278055024961 random_state: 24\n",
      "5cv: 0.6317899678466932 TEST: 0.6885324463647535 random_state: 28\n",
      "5cv: 0.6328707082491747 TEST: 0.6772970051374081 random_state: 32\n",
      "5cv: 0.6436919338023926 TEST: 0.6486483549666199 random_state: 33\n",
      "5cv: 0.6337799438319013 TEST: 0.6636023177865984 random_state: 36\n",
      "5cv: 0.6424844581023189 TEST: 0.6654110777886499 random_state: 38\n",
      "5cv: 0.6307407976476076 TEST: 0.6458244685466057 random_state: 46\n",
      "5cv: 0.6306788977589584 TEST: 0.6643222306684571 random_state: 49\n",
      "5cv: 0.6321463719440841 TEST: 0.6415009512903351 random_state: 50\n",
      "5cv: 0.6331952157363899 TEST: 0.6433777027550509 random_state: 66\n",
      "5cv: 0.6300387750931862 TEST: 0.6389561724926136 random_state: 67\n",
      "5cv: 0.6318445764555154 TEST: 0.640616598794248 random_state: 74\n",
      "5cv: 0.6410195610475689 TEST: 0.6406103189826255 random_state: 86\n",
      "5cv: 0.6316961626577025 TEST: 0.6350716014359081 random_state: 87\n",
      "5cv: 0.6332700789263178 TEST: 0.6517476110256727 random_state: 88\n",
      "5cv: 0.6457235768726478 TEST: 0.6416181747499385 random_state: 89\n",
      "5cv: 0.6312470296963241 TEST: 0.6484674168061432 random_state: 96\n"
     ]
    }
   ],
   "source": [
    "for i in range(100):\n",
    "    Xtrain,Xtest,Ytrain,Ytest = train_test_split(X,y,test_size=0.2,random_state=i)\n",
    "    ebr =  ExplainableBoostingRegressor(random_state=6)\n",
    "    CV_score = cross_val_score(ebr, Xtrain, Ytrain, cv=5).mean()\n",
    "    regressor = ebr.fit(Xtrain, Ytrain)\n",
    "    score_test = regressor.score(Xtest,Ytest)\n",
    "#     if CV < CV_score and test < score_test:\n",
    "#         CV = CV_score\n",
    "#         test = score_test\n",
    "    if CV_score>0.63 and score_test>0.63:\n",
    "        print(\"5cv:\",CV_score,\"TEST:\",score_test,\"random_state:\",i)"
   ]
  },
  {
   "cell_type": "code",
   "execution_count": 63,
   "id": "2eb7d4f1",
   "metadata": {
    "ExecuteTime": {
     "end_time": "2023-04-04T12:37:47.590024Z",
     "start_time": "2023-04-04T12:37:47.569081Z"
    }
   },
   "outputs": [
    {
     "name": "stdout",
     "output_type": "stream",
     "text": [
      "5cv: 0.6424844581023189 TEST: 0.6654110777886499\n"
     ]
    }
   ],
   "source": [
    "Xtrain,Xtest,Ytrain,Ytest = train_test_split(X,y,test_size=0.2,random_state=38)\n",
    "ebr =  ExplainableBoostingRegressor(random_state=6)\n",
    "CV_score = cross_val_score(ebr, Xtrain, Ytrain, cv=5).mean()\n",
    "regressor = ebr.fit(Xtrain, Ytrain)\n",
    "score_test = regressor.score(Xtest,Ytest)\n",
    "print(\"5cv:\",CV_score,\"TEST:\",score_test)"
   ]
  },
  {
   "cell_type": "code",
   "execution_count": 64,
   "id": "e8a1400d",
   "metadata": {
    "ExecuteTime": {
     "end_time": "2023-04-04T12:41:22.585782Z",
     "start_time": "2023-04-04T12:37:59.871051Z"
    }
   },
   "outputs": [
    {
     "name": "stdout",
     "output_type": "stream",
     "text": [
      "Best_5cv score：0.6483326270729425 random_state_5cv:45\n"
     ]
    }
   ],
   "source": [
    "score_5cv_all = []\n",
    "for i in range(0, 100, 5):\n",
    "    ebr =ExplainableBoostingRegressor(random_state=i)\n",
    "    score_5cv =cross_val_score(ebr, Xtrain, Ytrain, cv=5).mean()\n",
    "    score_5cv_all.append(score_5cv)\n",
    "    pass\n",
    "score_max_5cv = max(score_5cv_all)\n",
    "random_state_5cv = range(0, 100, 5)[score_5cv_all.index(max(score_5cv_all))]\n",
    "\n",
    "print(\"Best_5cv score：{}\".format(score_max_5cv),\n",
    "      \"random_state_5cv:{}\".format(random_state_5cv))"
   ]
  },
  {
   "cell_type": "code",
   "execution_count": 65,
   "id": "446d8ece",
   "metadata": {
    "ExecuteTime": {
     "end_time": "2023-06-12T06:54:21.919555Z",
     "start_time": "2023-06-12T06:49:14.598054Z"
    }
   },
   "outputs": [
    {
     "name": "stdout",
     "output_type": "stream",
     "text": [
      "r2_5cv: 0.641444107304211 rmse_5CV 18.98112394571316\n",
      "r2_test: 0.647067594570337 rmse_test 18.773957108428586\n"
     ]
    }
   ],
   "source": [
    "ebr =ExplainableBoostingRegressor(random_state=38)\n",
    "\n",
    "CV_score = cross_val_score(ebr, Xtrain, Ytrain, cv=5).mean()\n",
    "CV_predictions = cross_val_predict(ebr, Xtrain,Ytrain,cv=5)\n",
    "rmse = np.sqrt(mean_squared_error(Ytrain,CV_predictions))\n",
    "print(\"r2_5cv:\",CV_score,\"rmse_5CV\",rmse)\n",
    "\n",
    "regressor = ebr.fit(Xtrain, Ytrain)\n",
    "test_predictions = regressor.predict(Xtest)\n",
    "score_test = regressor.score(Xtest,Ytest)\n",
    "rmse = np.sqrt(mean_squared_error(Ytest,test_predictions))\n",
    "print(\"r2_test:\",score_test,\"rmse_test\",rmse)"
   ]
  },
  {
   "cell_type": "code",
   "execution_count": 66,
   "id": "85008049",
   "metadata": {},
   "outputs": [
    {
     "name": "stdout",
     "output_type": "stream",
     "text": [
      "Original Model Score: 0.647067594570337\n",
      "Y Scrambling Average Score: 0.0027272477971141294\n",
      "Score Difference: 0.6443403467732229\n"
     ]
    }
   ],
   "source": [
    "# 执行Y-Scrambling\n",
    "perform_y_scrambling(ebr, Xtrain, Xtest, Ytrain, Ytest, num_iterations=10)"
   ]
  },
  {
   "cell_type": "markdown",
   "id": "a7ec5247",
   "metadata": {},
   "source": [
    "# KNN"
   ]
  },
  {
   "cell_type": "code",
   "execution_count": 67,
   "id": "a509d3b9",
   "metadata": {},
   "outputs": [
    {
     "name": "stdout",
     "output_type": "stream",
     "text": [
      "5cv: 0.4538817889495005 TEST: 0.5016984992177858\n"
     ]
    }
   ],
   "source": [
    "Xtrain,Xtest,Ytrain,Ytest = train_test_split(X,y,test_size=0.2,random_state=60)\n",
    "\n",
    "rfc = KNeighborsRegressor(n_neighbors=5)\n",
    "CV_score = cross_val_score(rfc, Xtrain, Ytrain, cv=5).mean()\n",
    "regressor = rfc.fit(Xtrain, Ytrain)\n",
    "score_test = regressor.score(Xtest,Ytest)\n",
    "print(\"5cv:\",CV_score,\"TEST:\",score_test)"
   ]
  },
  {
   "cell_type": "code",
   "execution_count": 71,
   "id": "2b803b47",
   "metadata": {},
   "outputs": [
    {
     "name": "stdout",
     "output_type": "stream",
     "text": [
      "5cv: 0.47168781223873213 TEST: 0.48679914508725297 random_state: 119\n",
      "5cv: 0.47044219434469065 TEST: 0.478696040682685 random_state: 140\n",
      "5cv: 0.47665351858294613 TEST: 0.5240553484640588 random_state: 151\n",
      "5cv: 0.4702287466474318 TEST: 0.4794985656922177 random_state: 321\n",
      "5cv: 0.4878452956391851 TEST: 0.5103990898531245 random_state: 415\n",
      "5cv: 0.4766611899937951 TEST: 0.4748143396814557 random_state: 472\n"
     ]
    }
   ],
   "source": [
    "for i in range(500):\n",
    "    Xtrain,Xtest,Ytrain,Ytest = train_test_split(X,y,test_size=0.2,random_state=i)\n",
    "    rfc = KNeighborsRegressor(n_neighbors=5)\n",
    "    CV_score = cross_val_score(rfc, Xtrain, Ytrain, cv=5).mean()\n",
    "    regressor = rfc.fit(Xtrain, Ytrain)\n",
    "    score_test = regressor.score(Xtest,Ytest)\n",
    "#     if CV < CV_score and test < score_test:\n",
    "#         CV = CV_score\n",
    "#         test = score_test\n",
    "    if CV_score>0.47 and score_test>0.47:\n",
    "        print(\"5cv:\",CV_score,\"TEST:\",score_test,\"random_state:\",i)"
   ]
  },
  {
   "cell_type": "code",
   "execution_count": 72,
   "id": "9e7d9797",
   "metadata": {},
   "outputs": [
    {
     "name": "stdout",
     "output_type": "stream",
     "text": [
      "5cv: 0.4878452956391851 TEST: 0.5103990898531245\n",
      "rmse_5CV 22.714156654683194\n"
     ]
    }
   ],
   "source": [
    "Xtrain,Xtest,Ytrain,Ytest = train_test_split(X,y,test_size=0.2,random_state=415)\n",
    "\n",
    "rfc = KNeighborsRegressor(n_neighbors=5)\n",
    "CV_score = cross_val_score(rfc, Xtrain, Ytrain, cv=5).mean()\n",
    "regressor = rfc.fit(Xtrain, Ytrain)\n",
    "CV_predictions = cross_val_predict(rfc, Xtrain,Ytrain,cv=5)\n",
    "rmse = np.sqrt(mean_squared_error(Ytrain,CV_predictions))\n",
    "\n",
    "score_test = regressor.score(Xtest,Ytest)\n",
    "print(\"5cv:\",CV_score,\"TEST:\",score_test)\n",
    "print(\"rmse_5CV\",rmse)"
   ]
  },
  {
   "cell_type": "code",
   "execution_count": 73,
   "id": "aa345d9b",
   "metadata": {},
   "outputs": [
    {
     "name": "stdout",
     "output_type": "stream",
     "text": [
      "Best_5cv score：0.5779360943245891 n_neighbors_5cv:1\n",
      "Best_5cv score：0.5779360943245891 weights_5cv:uniform\n",
      "Best_5cv score：0.5779360943245891 algorithm_5cv:brute\n",
      "Best_5cv score：0.5779360943245891 leaf_size_5cv:10\n"
     ]
    }
   ],
   "source": [
    "score_5cv_all = []\n",
    "for i in range(1, 11, 1):\n",
    "    rfc =KNeighborsRegressor(n_neighbors=i)\n",
    "    score_5cv =cross_val_score(rfc, Xtrain, Ytrain, cv=5).mean()\n",
    "    score_5cv_all.append(score_5cv)\n",
    "    pass\n",
    "\n",
    "score_max_5cv = max(score_5cv_all)\n",
    "n_neighbors_5cv = range(1, 11)[score_5cv_all.index(max(score_5cv_all))]\n",
    "\n",
    "print(\"Best_5cv score：{}\".format(score_max_5cv),\n",
    "      \"n_neighbors_5cv:{}\".format(n_neighbors_5cv))\n",
    "\n",
    "\n",
    "score_5cv_all = []\n",
    "for i in ['uniform', 'distance']:\n",
    "    rfc = KNeighborsRegressor(weights=i\n",
    "                                , n_neighbors=n_neighbors_5cv)\n",
    "    score_5cv = cross_val_score(rfc, Xtrain, Ytrain, cv=5).mean()\n",
    "    score_5cv_all.append(score_5cv)\n",
    "    pass\n",
    "\n",
    "score_max_5cv = max(score_5cv_all)\n",
    "weights_5cv = ['uniform', 'distance'][score_5cv_all.index(score_max_5cv)]\n",
    "\n",
    "print(\"Best_5cv score：{}\".format(score_max_5cv),\n",
    "      \"weights_5cv:{}\".format(weights_5cv))\n",
    "\n",
    "score_5cv_all = []\n",
    "for i in ['brute', 'kd_tree']:\n",
    "    rfc = KNeighborsRegressor(algorithm=i\n",
    "                                , weights=weights_5cv\n",
    "                                , n_neighbors=n_neighbors_5cv)\n",
    "    score_5cv = cross_val_score(rfc, Xtrain, Ytrain, cv=5).mean()\n",
    "    score_5cv_all.append(score_5cv)\n",
    "    pass\n",
    "\n",
    "score_max_5cv = max(score_5cv_all)\n",
    "algorithm_5cv = ['brute', 'kd_tree'][score_5cv_all.index(score_max_5cv)]\n",
    "\n",
    "print(\"Best_5cv score：{}\".format(score_max_5cv),\n",
    "      \"algorithm_5cv:{}\".format(algorithm_5cv))\n",
    "\n",
    "score_5cv_all = []\n",
    "for i in range(1, 1000, 1):\n",
    "    rfc = KNeighborsRegressor(leaf_size=i\n",
    "                                , algorithm=algorithm_5cv\n",
    "                                , weights=weights_5cv\n",
    "                                , n_neighbors=n_neighbors_5cv)\n",
    "    score_5cv = cross_val_score(rfc, Xtrain, Ytrain, cv=5).mean()\n",
    "    score_5cv_all.append(score_5cv)\n",
    "    pass\n",
    "\n",
    "score_max_5cv = max(score_5cv_all)\n",
    "leaf_size_5cv = range(10, 1000, 1)[score_5cv_all.index(score_max_5cv)]\n",
    "\n",
    "print(\"Best_5cv score：{}\".format(score_max_5cv),\n",
    "      \"leaf_size_5cv:{}\".format(leaf_size_5cv))"
   ]
  },
  {
   "cell_type": "code",
   "execution_count": 74,
   "id": "3c2bf325",
   "metadata": {},
   "outputs": [
    {
     "name": "stdout",
     "output_type": "stream",
     "text": [
      "r2_5cv: 0.5779360943245891 rmse_5CV 20.60467300885505\n",
      "r2_test: 0.6819023767074557 rmse_test 17.844423285570954\n"
     ]
    }
   ],
   "source": [
    "rfc = KNeighborsRegressor(leaf_size=leaf_size_5cv\n",
    "                        , algorithm=algorithm_5cv\n",
    "                        , weights=weights_5cv\n",
    "                        , n_neighbors=n_neighbors_5cv)\n",
    "\n",
    "CV_score = cross_val_score(rfc, Xtrain, Ytrain, cv=5).mean()\n",
    "CV_predictions = cross_val_predict(rfc, Xtrain,Ytrain,cv=5)\n",
    "rmse = np.sqrt(mean_squared_error(Ytrain,CV_predictions))\n",
    "print(\"r2_5cv:\",CV_score,\"rmse_5CV\",rmse)\n",
    "\n",
    "regressor = rfc.fit(Xtrain, Ytrain)\n",
    "test_predictions = regressor.predict(Xtest)\n",
    "score_test = regressor.score(Xtest,Ytest)\n",
    "rmse = np.sqrt(mean_squared_error(Ytest,test_predictions))\n",
    "print(\"r2_test:\",score_test,\"rmse_test\",rmse)"
   ]
  },
  {
   "cell_type": "code",
   "execution_count": 75,
   "id": "0451184f",
   "metadata": {},
   "outputs": [
    {
     "name": "stdout",
     "output_type": "stream",
     "text": [
      "Original Model Score: 0.6819023767074557\n",
      "Y Scrambling Average Score: -0.9939485034867385\n",
      "Score Difference: 1.675850880194194\n"
     ]
    }
   ],
   "source": [
    "# 执行Y-Scrambling\n",
    "perform_y_scrambling(rfc, Xtrain, Xtest, Ytrain, Ytest, num_iterations=10)"
   ]
  },
  {
   "cell_type": "markdown",
   "id": "a393c2e7",
   "metadata": {},
   "source": [
    "# SVM"
   ]
  },
  {
   "cell_type": "code",
   "execution_count": 76,
   "id": "9291d5dc",
   "metadata": {},
   "outputs": [
    {
     "name": "stdout",
     "output_type": "stream",
     "text": [
      "5cv: 0.1331233664981059 TEST: 0.1827175157094384\n"
     ]
    }
   ],
   "source": [
    "Xtrain,Xtest,Ytrain,Ytest = train_test_split(X,y,test_size=0.2,random_state=60)\n",
    "XGB = SVR()\n",
    "CV_score = cross_val_score(XGB, Xtrain, Ytrain, cv=5).mean()\n",
    "regressor = XGB.fit(Xtrain, Ytrain)\n",
    "score_test = regressor.score(Xtest,Ytest)\n",
    "print(\"5cv:\",CV_score,\"TEST:\",score_test)"
   ]
  },
  {
   "cell_type": "code",
   "execution_count": 79,
   "id": "6d2a9be9",
   "metadata": {},
   "outputs": [
    {
     "name": "stdout",
     "output_type": "stream",
     "text": [
      "5cv: 0.14200971638971777 TEST: 0.15114768498101938 random_state: 14\n",
      "5cv: 0.14192590910629008 TEST: 0.15662990812128186 random_state: 27\n",
      "5cv: 0.14167188112508194 TEST: 0.16070017004161774 random_state: 50\n",
      "5cv: 0.14212678339383283 TEST: 0.15504479678421734 random_state: 91\n",
      "5cv: 0.14764460071484004 TEST: 0.14350840725296843 random_state: 97\n",
      "5cv: 0.14091325195421428 TEST: 0.1622868750303218 random_state: 156\n",
      "5cv: 0.14638675696640419 TEST: 0.1480711022669131 random_state: 177\n",
      "5cv: 0.14025941336105083 TEST: 0.1660545800308355 random_state: 181\n",
      "5cv: 0.14840219010109224 TEST: 0.1630968876026958 random_state: 211\n",
      "5cv: 0.14269808275195855 TEST: 0.1595964330002425 random_state: 222\n",
      "5cv: 0.14316524366737982 TEST: 0.1590038362911005 random_state: 229\n",
      "5cv: 0.14004368821323515 TEST: 0.19439123310691409 random_state: 265\n",
      "5cv: 0.14429051893469363 TEST: 0.14919328804858334 random_state: 267\n",
      "5cv: 0.14315432927836058 TEST: 0.1731936758964585 random_state: 275\n",
      "5cv: 0.14272938170377972 TEST: 0.17530796991966702 random_state: 319\n",
      "5cv: 0.14355842302601135 TEST: 0.15598997524675462 random_state: 321\n",
      "5cv: 0.14229966025278742 TEST: 0.16268758689580776 random_state: 322\n",
      "5cv: 0.14177477499388608 TEST: 0.14005011083877472 random_state: 332\n",
      "5cv: 0.14502222783008104 TEST: 0.15236558944614242 random_state: 338\n",
      "5cv: 0.14034748327389673 TEST: 0.1748848072591097 random_state: 346\n",
      "5cv: 0.14604303371427918 TEST: 0.14775047929627194 random_state: 389\n",
      "5cv: 0.14846351032651153 TEST: 0.18267895138296242 random_state: 499\n"
     ]
    }
   ],
   "source": [
    "for i in range(500):\n",
    "    Xtrain,Xtest,Ytrain,Ytest = train_test_split(X,y,test_size=0.2,random_state=i)\n",
    "    XGB = SVR()\n",
    "    CV_score = cross_val_score(XGB, Xtrain, Ytrain, cv=5).mean()\n",
    "    regressor = XGB.fit(Xtrain, Ytrain)\n",
    "    score_test = regressor.score(Xtest,Ytest)\n",
    "#     if CV < CV_score and test < score_test:\n",
    "#         CV = CV_score\n",
    "#         test = score_test\n",
    "    if CV_score>0.14 and score_test>0.14:\n",
    "        print(\"5cv:\",CV_score,\"TEST:\",score_test,\"random_state:\",i)"
   ]
  },
  {
   "cell_type": "code",
   "execution_count": 80,
   "id": "0d63f50d",
   "metadata": {},
   "outputs": [
    {
     "name": "stdout",
     "output_type": "stream",
     "text": [
      "5cv: 0.14846351032651153 TEST: 0.18267895138296242\n"
     ]
    }
   ],
   "source": [
    "Xtrain,Xtest,Ytrain,Ytest = train_test_split(X,y,test_size=0.2,random_state=499)\n",
    "XGB = SVR()\n",
    "CV_score = cross_val_score(XGB, Xtrain, Ytrain, cv=5).mean()\n",
    "regressor = XGB.fit(Xtrain, Ytrain)\n",
    "score_test = regressor.score(Xtest,Ytest)\n",
    "print(\"5cv:\",CV_score,\"TEST:\",score_test)"
   ]
  },
  {
   "cell_type": "code",
   "execution_count": 81,
   "id": "39d360d6",
   "metadata": {},
   "outputs": [
    {
     "name": "stdout",
     "output_type": "stream",
     "text": [
      "Best_5cv score：0.286265510724063 kernel_5cv:linear\n",
      "Best_5cv score：0.31138395669825886 C_5cv:0.1\n"
     ]
    }
   ],
   "source": [
    "score_5cv_all = []\n",
    "for i in ['linear', 'rbf',\"poly\",\"sigmoid\"]:\n",
    "    XGB =SVR(kernel=i)\n",
    "    score_5cv =cross_val_score(XGB, Xtrain, Ytrain, cv=5).mean()\n",
    "    score_5cv_all.append(score_5cv)\n",
    "    pass\n",
    "score_max_5cv = max(score_5cv_all)\n",
    "kernel_5cv = ['linear', 'rbf',\"poly\",\"sigmoid\"][score_5cv_all.index(max(score_5cv_all))]\n",
    "\n",
    "print(\"Best_5cv score：{}\".format(score_max_5cv),\n",
    "      \"kernel_5cv:{}\".format(kernel_5cv))\n",
    "\n",
    "score_5cv_all = []\n",
    "for i in np.arange(0.1, 10, 0.1):\n",
    "    XGB = SVR(C=i\n",
    "               ,kernel=kernel_5cv)\n",
    "    score_5cv = cross_val_score(XGB, Xtrain, Ytrain, cv=5).mean()\n",
    "    score_5cv_all.append(score_5cv)\n",
    "    pass\n",
    "score_max_5cv = max(score_5cv_all)\n",
    "C_5cv = np.arange(0.1, 10, 0.1)[score_5cv_all.index(score_max_5cv)]\n",
    "\n",
    "print(\"Best_5cv score：{}\".format(score_max_5cv),\n",
    "      \"C_5cv:{}\".format(C_5cv))"
   ]
  },
  {
   "cell_type": "code",
   "execution_count": 82,
   "id": "7d9a7da2",
   "metadata": {},
   "outputs": [
    {
     "name": "stdout",
     "output_type": "stream",
     "text": [
      "r2_5cv: 0.31138395669825886 rmse_5CV 26.549424082648823\n",
      "r2_test: 0.32657896481156967 rmse_test 25.03401187983252\n"
     ]
    }
   ],
   "source": [
    "Xtrain,Xtest,Ytrain,Ytest = train_test_split(X,y,test_size=0.2,random_state=499)\n",
    "XGB = SVR(C=C_5cv\n",
    "        ,kernel=kernel_5cv)\n",
    "\n",
    "CV_score = cross_val_score(XGB, Xtrain, Ytrain, cv=5).mean()\n",
    "CV_predictions = cross_val_predict(XGB, Xtrain, Ytrain, cv=5)\n",
    "rmse = np.sqrt(mean_squared_error(Ytrain,CV_predictions))\n",
    "print(\"r2_5cv:\",CV_score,\"rmse_5CV\",rmse)\n",
    "\n",
    "regressor = XGB.fit(Xtrain, Ytrain)\n",
    "test_predictions = regressor.predict(Xtest)\n",
    "score_test = regressor.score(Xtest,Ytest)\n",
    "rmse = np.sqrt(mean_squared_error(Ytest,test_predictions))\n",
    "print(\"r2_test:\",score_test,\"rmse_test\",rmse)"
   ]
  },
  {
   "cell_type": "code",
   "execution_count": 83,
   "id": "b529a0cd",
   "metadata": {},
   "outputs": [
    {
     "name": "stdout",
     "output_type": "stream",
     "text": [
      "Original Model Score: 0.32657896481156967\n",
      "Y Scrambling Average Score: -0.10970082030556169\n",
      "Score Difference: 0.4362797851171314\n"
     ]
    }
   ],
   "source": [
    "# 执行Y-Scrambling\n",
    "perform_y_scrambling(XGB, Xtrain, Xtest, Ytrain, Ytest, num_iterations=10)"
   ]
  },
  {
   "cell_type": "markdown",
   "id": "f4eb0c06",
   "metadata": {},
   "source": [
    "# LR"
   ]
  },
  {
   "cell_type": "code",
   "execution_count": 84,
   "id": "5420326e",
   "metadata": {},
   "outputs": [
    {
     "name": "stdout",
     "output_type": "stream",
     "text": [
      "5cv: 0.3401901253973431 TEST: 0.344987287802463\n"
     ]
    }
   ],
   "source": [
    "Xtrain,Xtest,Ytrain,Ytest = train_test_split(X,y,test_size=0.2,random_state=60)\n",
    "\n",
    "rfc = Lasso(alpha=0.1)\n",
    "CV_score = cross_val_score(rfc, Xtrain, Ytrain, cv=5).mean()\n",
    "regressor = rfc.fit(Xtrain, Ytrain)\n",
    "score_test = regressor.score(Xtest,Ytest)\n",
    "print(\"5cv:\",CV_score,\"TEST:\",score_test)"
   ]
  },
  {
   "cell_type": "code",
   "execution_count": 87,
   "id": "b7187da7",
   "metadata": {},
   "outputs": [
    {
     "name": "stdout",
     "output_type": "stream",
     "text": [
      "5cv: 0.3607191522003498 TEST: 0.3634255073202721 random_state: 183\n",
      "5cv: 0.3614334813185254 TEST: 0.3640918905979088 random_state: 423\n"
     ]
    }
   ],
   "source": [
    "for i in range(500):\n",
    "    Xtrain,Xtest,Ytrain,Ytest = train_test_split(X,y,test_size=0.2,random_state=i)\n",
    "    rfc = Lasso(alpha=0.1)\n",
    "    CV_score = cross_val_score(rfc, Xtrain, Ytrain, cv=5).mean()\n",
    "    regressor = rfc.fit(Xtrain, Ytrain)\n",
    "    score_test = regressor.score(Xtest,Ytest)\n",
    "#     if CV < CV_score and test < score_test:\n",
    "#         CV = CV_score\n",
    "#         test = score_test\n",
    "    if CV_score>0.36 and score_test>0.36:\n",
    "        print(\"5cv:\",CV_score,\"TEST:\",score_test,\"random_state:\",i)"
   ]
  },
  {
   "cell_type": "code",
   "execution_count": 91,
   "id": "3413c1e1",
   "metadata": {},
   "outputs": [
    {
     "name": "stdout",
     "output_type": "stream",
     "text": [
      "5cv: 0.3614334813185254 TEST: 0.3640918905979088\n",
      "rmse_5CV 25.405343799572815\n"
     ]
    }
   ],
   "source": [
    "Xtrain,Xtest,Ytrain,Ytest = train_test_split(X,y,test_size=0.2,random_state=423)\n",
    "\n",
    "rfc = Lasso(alpha=0.1)\n",
    "CV_score = cross_val_score(rfc, Xtrain, Ytrain, cv=5).mean()\n",
    "regressor = rfc.fit(Xtrain, Ytrain)\n",
    "CV_predictions = cross_val_predict(rfc, Xtrain,Ytrain,cv=5)\n",
    "rmse = np.sqrt(mean_squared_error(Ytrain,CV_predictions))\n",
    "score_test = regressor.score(Xtest,Ytest)\n",
    "print(\"5cv:\",CV_score,\"TEST:\",score_test)\n",
    "print(\"rmse_5CV\",rmse)"
   ]
  },
  {
   "cell_type": "code",
   "execution_count": 88,
   "id": "3b42c625",
   "metadata": {},
   "outputs": [
    {
     "name": "stderr",
     "output_type": "stream",
     "text": [
      "Objective did not converge. You might want to increase the number of iterations, check the scale of the features or consider increasing regularisation. Duality gap: 6.007e+02, tolerance: 1.570e+02\n",
      "Objective did not converge. You might want to increase the number of iterations, check the scale of the features or consider increasing regularisation. Duality gap: 1.866e+03, tolerance: 1.553e+02\n",
      "Objective did not converge. You might want to increase the number of iterations, check the scale of the features or consider increasing regularisation. Duality gap: 3.597e+02, tolerance: 1.545e+02\n",
      "Objective did not converge. You might want to increase the number of iterations, check the scale of the features or consider increasing regularisation. Duality gap: 1.902e+02, tolerance: 1.557e+02\n",
      "Objective did not converge. You might want to increase the number of iterations, check the scale of the features or consider increasing regularisation. Duality gap: 6.897e+02, tolerance: 1.570e+02\n",
      "Objective did not converge. You might want to increase the number of iterations, check the scale of the features or consider increasing regularisation. Duality gap: 1.050e+03, tolerance: 1.553e+02\n",
      "Objective did not converge. You might want to increase the number of iterations, check the scale of the features or consider increasing regularisation. Duality gap: 7.367e+02, tolerance: 1.570e+02\n"
     ]
    },
    {
     "name": "stdout",
     "output_type": "stream",
     "text": [
      "Best_5cv score：0.3618760491333573 alpha_5cv:0.22\n"
     ]
    }
   ],
   "source": [
    "score_5cv_all = []\n",
    "for i in np.arange(0.01, 1, 0.01):\n",
    "    rfc =Lasso(alpha=i)\n",
    "    score_5cv =cross_val_score(rfc, Xtrain, Ytrain, cv=5).mean()\n",
    "    score_5cv_all.append(score_5cv)\n",
    "    pass\n",
    "\n",
    "score_max_5cv = max(score_5cv_all)\n",
    "alpha_5cv = np.arange(0.01, 1, 0.01)[score_5cv_all.index(max(score_5cv_all))]\n",
    "print(\"Best_5cv score：{}\".format(score_max_5cv),\n",
    "      \"alpha_5cv:{}\".format(alpha_5cv))"
   ]
  },
  {
   "cell_type": "code",
   "execution_count": 90,
   "id": "e0bee33f",
   "metadata": {},
   "outputs": [
    {
     "name": "stdout",
     "output_type": "stream",
     "text": [
      "r2_5cv: 0.3614334813185254 rmse_5CV 25.405343799572815\n",
      "r2_test: 0.3640918905979088 rmse_test 24.86485680131425\n"
     ]
    }
   ],
   "source": [
    "Xtrain,Xtest,Ytrain,Ytest = train_test_split(X,y,test_size=0.2,random_state=423)\n",
    "rfc =Lasso(alpha=alpha_5cv)\n",
    "\n",
    "CV_score = cross_val_score(rfc, Xtrain, Ytrain, cv=5).mean()\n",
    "CV_predictions = cross_val_predict(rfc, Xtrain,Ytrain,cv=5)\n",
    "rmse = np.sqrt(mean_squared_error(Ytrain,CV_predictions))\n",
    "print(\"r2_5cv:\",CV_score,\"rmse_5CV\",rmse)\n",
    "\n",
    "regressor = rfc.fit(Xtrain, Ytrain)\n",
    "test_predictions = regressor.predict(Xtest)\n",
    "score_test = regressor.score(Xtest,Ytest)\n",
    "rmse = np.sqrt(mean_squared_error(Ytest,test_predictions))\n",
    "print(\"r2_test:\",score_test,\"rmse_test\",rmse)"
   ]
  },
  {
   "cell_type": "code",
   "execution_count": 92,
   "id": "3cf7d157",
   "metadata": {},
   "outputs": [
    {
     "name": "stdout",
     "output_type": "stream",
     "text": [
      "Original Model Score: 0.3640918905979088\n",
      "Y Scrambling Average Score: -0.059157345038225694\n",
      "Score Difference: 0.4232492356361345\n"
     ]
    }
   ],
   "source": [
    "# 执行Y-Scrambling\n",
    "perform_y_scrambling(rfc, Xtrain, Xtest, Ytrain, Ytest, num_iterations=10)"
   ]
  },
  {
   "cell_type": "markdown",
   "id": "5ba116e7",
   "metadata": {},
   "source": [
    "# RR"
   ]
  },
  {
   "cell_type": "code",
   "execution_count": 93,
   "id": "4893c8c9",
   "metadata": {},
   "outputs": [
    {
     "name": "stdout",
     "output_type": "stream",
     "text": [
      "5cv: 0.3352158155728241 TEST: 0.33542490603665687\n"
     ]
    }
   ],
   "source": [
    "Xtrain,Xtest,Ytrain,Ytest = train_test_split(X,y,test_size=0.2,random_state=60)\n",
    "XGB = Ridge(alpha=27)\n",
    "CV_score = cross_val_score(XGB, Xtrain, Ytrain, cv=5).mean()\n",
    "regressor = XGB.fit(Xtrain, Ytrain)\n",
    "score_test = regressor.score(Xtest,Ytest)\n",
    "print(\"5cv:\",CV_score,\"TEST:\",score_test)"
   ]
  },
  {
   "cell_type": "code",
   "execution_count": 94,
   "id": "16675b88",
   "metadata": {},
   "outputs": [
    {
     "name": "stdout",
     "output_type": "stream",
     "text": [
      "5cv: 0.3509719384627783 TEST: 0.35494230918681535 random_state: 6\n",
      "5cv: 0.3528749278102713 TEST: 0.3674555743931842 random_state: 22\n",
      "5cv: 0.351810267204541 TEST: 0.3529353170153605 random_state: 24\n",
      "5cv: 0.3545914473612277 TEST: 0.3855460728027639 random_state: 74\n",
      "5cv: 0.3544101207805642 TEST: 0.35957420588694045 random_state: 86\n",
      "5cv: 0.35392523000807796 TEST: 0.3535583446262225 random_state: 106\n",
      "5cv: 0.3521760418045193 TEST: 0.353850085875681 random_state: 148\n",
      "5cv: 0.35741507460253724 TEST: 0.358736164604768 random_state: 183\n",
      "5cv: 0.3504242358069306 TEST: 0.3821686483268163 random_state: 283\n",
      "5cv: 0.3506896630922309 TEST: 0.3510147529139287 random_state: 322\n",
      "5cv: 0.3578574920729859 TEST: 0.37484879501150237 random_state: 349\n",
      "5cv: 0.35177890820293917 TEST: 0.366744897265334 random_state: 350\n",
      "5cv: 0.35628010898048446 TEST: 0.35047309303926155 random_state: 365\n",
      "5cv: 0.3506738481681019 TEST: 0.35547367731737856 random_state: 383\n",
      "5cv: 0.35043704711919094 TEST: 0.358629236321676 random_state: 402\n",
      "5cv: 0.3523988318603427 TEST: 0.3801854325707943 random_state: 415\n",
      "5cv: 0.35923975308745854 TEST: 0.3656137141635154 random_state: 423\n",
      "5cv: 0.3570643238617967 TEST: 0.36539959842477454 random_state: 449\n",
      "5cv: 0.35108700827640044 TEST: 0.35666055217823245 random_state: 491\n",
      "5cv: 0.353379546765252 TEST: 0.3674999377797421 random_state: 499\n"
     ]
    }
   ],
   "source": [
    "for i in range(500):\n",
    "    Xtrain,Xtest,Ytrain,Ytest = train_test_split(X,y,test_size=0.2,random_state=i)\n",
    "    XGB = Ridge(alpha=27)\n",
    "    CV_score = cross_val_score(XGB, Xtrain, Ytrain, cv=5).mean()\n",
    "    regressor = XGB.fit(Xtrain, Ytrain)\n",
    "    score_test = regressor.score(Xtest,Ytest)\n",
    "#     if CV < CV_score and test < score_test:\n",
    "#         CV = CV_score\n",
    "#         test = score_test\n",
    "    if CV_score>0.35 and score_test>0.35:\n",
    "        print(\"5cv:\",CV_score,\"TEST:\",score_test,\"random_state:\",i)"
   ]
  },
  {
   "cell_type": "code",
   "execution_count": 95,
   "id": "d4632b73",
   "metadata": {},
   "outputs": [
    {
     "name": "stdout",
     "output_type": "stream",
     "text": [
      "5cv: 0.3504242358069306 TEST: 0.3821686483268163\n"
     ]
    }
   ],
   "source": [
    "Xtrain,Xtest,Ytrain,Ytest = train_test_split(X,y,test_size=0.2,random_state=283)\n",
    "\n",
    "XGB = Ridge(alpha=27)\n",
    "CV_score = cross_val_score(XGB, Xtrain, Ytrain, cv=5).mean()\n",
    "regressor = XGB.fit(Xtrain, Ytrain)\n",
    "score_test = regressor.score(Xtest,Ytest)\n",
    "print(\"5cv:\",CV_score,\"TEST:\",score_test)"
   ]
  },
  {
   "cell_type": "code",
   "execution_count": 96,
   "id": "0c44ca53",
   "metadata": {},
   "outputs": [
    {
     "name": "stdout",
     "output_type": "stream",
     "text": [
      "Best_5cv score：0.3521308818263951 alpha_5cv:49\n"
     ]
    }
   ],
   "source": [
    "score_5cv_all = []\n",
    "for i in np.arange(1, 50, 1):\n",
    "    XGB =Ridge(alpha=i)\n",
    "    score_5cv =cross_val_score(XGB, Xtrain, Ytrain, cv=5).mean()\n",
    "    score_5cv_all.append(score_5cv)\n",
    "    pass\n",
    "score_max_5cv = max(score_5cv_all)\n",
    "alpha_5cv = np.arange(1, 50, 1)[score_5cv_all.index(max(score_5cv_all))]\n",
    "\n",
    "print(\"Best_5cv score：{}\".format(score_max_5cv),\n",
    "      \"alpha_5cv:{}\".format(alpha_5cv))"
   ]
  },
  {
   "cell_type": "code",
   "execution_count": 97,
   "id": "124d55b5",
   "metadata": {},
   "outputs": [
    {
     "name": "stdout",
     "output_type": "stream",
     "text": [
      "r2_5cv: 0.3521308818263951 rmse_5CV 25.173295552873277\n",
      "r2_test: 0.3814845231210475 rmse_test 26.213251091092523\n"
     ]
    }
   ],
   "source": [
    "Xtrain,Xtest,Ytrain,Ytest = train_test_split(X,y,test_size=0.2,random_state=283)\n",
    "\n",
    "XGB = Ridge(alpha=alpha_5cv)\n",
    "CV_score = cross_val_score(XGB, Xtrain, Ytrain, cv=5).mean()\n",
    "CV_predictions = cross_val_predict(XGB, Xtrain, Ytrain, cv=5)\n",
    "rmse = np.sqrt(mean_squared_error(Ytrain,CV_predictions))\n",
    "print(\"r2_5cv:\",CV_score,\"rmse_5CV\",rmse)\n",
    "\n",
    "regressor = XGB.fit(Xtrain, Ytrain)\n",
    "test_predictions = regressor.predict(Xtest)\n",
    "score_test = regressor.score(Xtest,Ytest)\n",
    "rmse = np.sqrt(mean_squared_error(Ytest,test_predictions))\n",
    "print(\"r2_test:\",score_test,\"rmse_test\",rmse)"
   ]
  },
  {
   "cell_type": "code",
   "execution_count": 98,
   "id": "88ad1a73",
   "metadata": {},
   "outputs": [
    {
     "name": "stdout",
     "output_type": "stream",
     "text": [
      "Original Model Score: 0.3814845231210475\n",
      "Y Scrambling Average Score: -0.06863342804414801\n",
      "Score Difference: 0.45011795116519554\n"
     ]
    }
   ],
   "source": [
    "# 执行Y-Scrambling\n",
    "perform_y_scrambling(XGB, Xtrain, Xtest, Ytrain, Ytest, num_iterations=10)"
   ]
  },
  {
   "cell_type": "markdown",
   "id": "e5323c6d",
   "metadata": {},
   "source": [
    "# ENR"
   ]
  },
  {
   "cell_type": "code",
   "execution_count": 99,
   "id": "030cb998",
   "metadata": {},
   "outputs": [
    {
     "name": "stdout",
     "output_type": "stream",
     "text": [
      "5cv: 0.3435835432660671 TEST: 0.3406260311983924\n"
     ]
    }
   ],
   "source": [
    "Xtrain,Xtest,Ytrain,Ytest = train_test_split(X,y,test_size=0.2,random_state=60)\n",
    "XGB = ElasticNet(alpha=0.1)\n",
    "CV_score = cross_val_score(XGB, Xtrain, Ytrain, cv=5).mean()\n",
    "regressor = XGB.fit(Xtrain, Ytrain)\n",
    "score_test = regressor.score(Xtest,Ytest)\n",
    "print(\"5cv:\",CV_score,\"TEST:\",score_test)"
   ]
  },
  {
   "cell_type": "code",
   "execution_count": 101,
   "id": "18d88d76",
   "metadata": {},
   "outputs": [
    {
     "name": "stdout",
     "output_type": "stream",
     "text": [
      "5cv: 0.360634070406904 TEST: 0.3640291534447416 random_state: 183\n",
      "5cv: 0.36020160080888763 TEST: 0.3633678251838942 random_state: 365\n",
      "5cv: 0.36044924671488604 TEST: 0.3667053119596144 random_state: 423\n"
     ]
    }
   ],
   "source": [
    "for i in range(500):\n",
    "    Xtrain,Xtest,Ytrain,Ytest = train_test_split(X,y,test_size=0.2,random_state=i)\n",
    "    XGB = XGB = ElasticNet(alpha=0.1)\n",
    "    CV_score = cross_val_score(XGB, Xtrain, Ytrain, cv=5).mean()\n",
    "    regressor = XGB.fit(Xtrain, Ytrain)\n",
    "    score_test = regressor.score(Xtest,Ytest)\n",
    "#     if CV < CV_score and test < score_test:\n",
    "#         CV = CV_score\n",
    "#         test = score_test\n",
    "    if CV_score>0.36 and score_test>0.36:\n",
    "        print(\"5cv:\",CV_score,\"TEST:\",score_test,\"random_state:\",i)"
   ]
  },
  {
   "cell_type": "code",
   "execution_count": 102,
   "id": "393af54f",
   "metadata": {},
   "outputs": [
    {
     "name": "stdout",
     "output_type": "stream",
     "text": [
      "5cv: 0.36044924671488604 TEST: 0.3667053119596144\n"
     ]
    }
   ],
   "source": [
    "Xtrain,Xtest,Ytrain,Ytest = train_test_split(X,y,test_size=0.2,random_state=423)\n",
    "\n",
    "XGB = ElasticNet(alpha=0.1)\n",
    "CV_score = cross_val_score(XGB, Xtrain, Ytrain, cv=5).mean()\n",
    "regressor = XGB.fit(Xtrain, Ytrain)\n",
    "score_test = regressor.score(Xtest,Ytest)\n",
    "print(\"5cv:\",CV_score,\"TEST:\",score_test)"
   ]
  },
  {
   "cell_type": "code",
   "execution_count": 103,
   "id": "e950bde2",
   "metadata": {},
   "outputs": [
    {
     "name": "stdout",
     "output_type": "stream",
     "text": [
      "Best_5cv score：0.360556055641655 alpha_5cv:0.08\n",
      "Best_5cv score：0.3611513934528829 l1_ratio_5cv:0.9\n",
      "Best_5cv score：0.3611716318487589 tol_5cv:0.0047\n"
     ]
    }
   ],
   "source": [
    "score_5cv_all = []\n",
    "for i in np.arange(0.01, 1, 0.01):\n",
    "    XGB =ElasticNet(alpha=i)\n",
    "    score_5cv =cross_val_score(XGB, Xtrain, Ytrain, cv=5).mean()\n",
    "    score_5cv_all.append(score_5cv)\n",
    "    pass\n",
    "score_max_5cv = max(score_5cv_all)\n",
    "alpha_5cv = np.arange(0.01, 1, 0.01)[score_5cv_all.index(max(score_5cv_all))]\n",
    "\n",
    "print(\"Best_5cv score：{}\".format(score_max_5cv),\n",
    "      \"alpha_5cv:{}\".format(alpha_5cv))\n",
    "\n",
    "\n",
    "score_5cv_all = []\n",
    "for i in np.arange(0.1, 1, 0.1):\n",
    "    XGB = ElasticNet(l1_ratio=i\n",
    "              ,alpha=alpha_5cv)\n",
    "    score_5cv = cross_val_score(XGB, Xtrain, Ytrain, cv=5).mean()\n",
    "    score_5cv_all.append(score_5cv)\n",
    "    pass\n",
    "score_max_5cv = max(score_5cv_all)\n",
    "l1_ratio_5cv = np.arange(0.1, 1, 0.1)[score_5cv_all.index(score_max_5cv)]\n",
    "\n",
    "print(\"Best_5cv score：{}\".format(score_max_5cv),\n",
    "      \"l1_ratio_5cv:{}\".format(l1_ratio_5cv))\n",
    "\n",
    "score_5cv_all = []\n",
    "for i in np.arange(0.00001, 0.01, 0.00001):\n",
    "    XGB = ElasticNet(tol=i\n",
    "                ,l1_ratio=l1_ratio_5cv\n",
    "                ,alpha=alpha_5cv)\n",
    "    score_5cv = cross_val_score(XGB, Xtrain, Ytrain, cv=5).mean()\n",
    "    score_5cv_all.append(score_5cv)\n",
    "    pass\n",
    "score_max_5cv = max(score_5cv_all)\n",
    "tol_5cv = np.arange(0.00001, 0.01, 0.00001)[score_5cv_all.index(score_max_5cv)]\n",
    "\n",
    "print(\"Best_5cv score：{}\".format(score_max_5cv),\n",
    "      \"tol_5cv:{}\".format(tol_5cv))"
   ]
  },
  {
   "cell_type": "code",
   "execution_count": 104,
   "id": "15968be7",
   "metadata": {},
   "outputs": [
    {
     "name": "stdout",
     "output_type": "stream",
     "text": [
      "r2_5cv: 0.3611716318487589 rmse_5CV 25.410201868821172\n",
      "r2_test: 0.36517682954836117 rmse_test 24.84363646496296\n"
     ]
    }
   ],
   "source": [
    "Xtrain,Xtest,Ytrain,Ytest = train_test_split(X,y,test_size=0.2,random_state=423)\n",
    "\n",
    "XGB = ElasticNet(tol=tol_5cv\n",
    "                ,l1_ratio=l1_ratio_5cv\n",
    "                ,alpha=alpha_5cv)\n",
    "CV_score = cross_val_score(XGB, Xtrain, Ytrain, cv=5).mean()\n",
    "CV_predictions = cross_val_predict(XGB, Xtrain, Ytrain, cv=5)\n",
    "rmse = np.sqrt(mean_squared_error(Ytrain,CV_predictions))\n",
    "print(\"r2_5cv:\",CV_score,\"rmse_5CV\",rmse)\n",
    "\n",
    "regressor = XGB.fit(Xtrain, Ytrain)\n",
    "test_predictions = regressor.predict(Xtest)\n",
    "score_test = regressor.score(Xtest,Ytest)\n",
    "rmse = np.sqrt(mean_squared_error(Ytest,test_predictions))\n",
    "print(\"r2_test:\",score_test,\"rmse_test\",rmse)"
   ]
  },
  {
   "cell_type": "code",
   "execution_count": 105,
   "id": "3c3a74a4",
   "metadata": {},
   "outputs": [
    {
     "name": "stdout",
     "output_type": "stream",
     "text": [
      "Original Model Score: 0.36517682954836117\n",
      "Y Scrambling Average Score: -0.06272586539882401\n",
      "Score Difference: 0.4279026949471852\n"
     ]
    }
   ],
   "source": [
    "# 执行Y-Scrambling\n",
    "perform_y_scrambling(XGB, Xtrain, Xtest, Ytrain, Ytest, num_iterations=10)"
   ]
  }
 ],
 "metadata": {
  "kernelspec": {
   "display_name": "Python 3 (ipykernel)",
   "language": "python",
   "name": "python3"
  },
  "language_info": {
   "codemirror_mode": {
    "name": "ipython",
    "version": 3
   },
   "file_extension": ".py",
   "mimetype": "text/x-python",
   "name": "python",
   "nbconvert_exporter": "python",
   "pygments_lexer": "ipython3",
   "version": "3.9.7"
  },
  "varInspector": {
   "cols": {
    "lenName": 16,
    "lenType": 16,
    "lenVar": 40
   },
   "kernels_config": {
    "python": {
     "delete_cmd_postfix": "",
     "delete_cmd_prefix": "del ",
     "library": "var_list.py",
     "varRefreshCmd": "print(var_dic_list())"
    },
    "r": {
     "delete_cmd_postfix": ") ",
     "delete_cmd_prefix": "rm(",
     "library": "var_list.r",
     "varRefreshCmd": "cat(var_dic_list()) "
    }
   },
   "types_to_exclude": [
    "module",
    "function",
    "builtin_function_or_method",
    "instance",
    "_Feature"
   ],
   "window_display": false
  }
 },
 "nbformat": 4,
 "nbformat_minor": 5
}
